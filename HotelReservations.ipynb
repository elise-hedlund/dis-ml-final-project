{
 "cells": [
  {
   "attachments": {},
   "cell_type": "markdown",
   "metadata": {},
   "source": [
    "### Hotel Reservations: \n",
    "\n",
    "Our dataset comes from Kaggle and can be found at the following link: https://www.kaggle.com/datasets/ahsan81/hotel-reservations-classification-dataset\n",
    "\n",
    "The dataset contains roughly 36,300 instances, each representing an individual hotel reservation. There are 19 features, which are the attributes of customers' hotel reservations. The features are as follows: Booking_ID, no_of_adults, no_of_children, no_of_weekend_nights, no_of_week_nights, type_of_meal_plan, required_car_parking_space, room_type_reserved, lead_time, arrival_year, arrival_month, arrival_date, market_segment_type, repeated_guest, no_of_previous_cancellations, no_of_previous_bookings_not_canceled. avg_price_per_room, no_of_special_requests, and booking_status. \n",
    "\n",
    "Our target variable is booking_status, which is defined in the dataset information as a \"flag indicating if the booking was canceled or not.\" We chose this feature as our target variable because the aim of our project is to determine the likelihood of a booking being canceled and which features are the best predictors of this cancellation. "
   ]
  },
  {
   "cell_type": "code",
   "execution_count": null,
   "metadata": {},
   "outputs": [],
   "source": [
    "import pandas as pd\n",
    "\n",
    "hotel_data = pd.read_csv('./Hotel Reservations.csv')"
   ]
  },
  {
   "cell_type": "code",
   "execution_count": null,
   "metadata": {},
   "outputs": [
    {
     "data": {
      "text/html": [
       "<div>\n",
       "<style scoped>\n",
       "    .dataframe tbody tr th:only-of-type {\n",
       "        vertical-align: middle;\n",
       "    }\n",
       "\n",
       "    .dataframe tbody tr th {\n",
       "        vertical-align: top;\n",
       "    }\n",
       "\n",
       "    .dataframe thead th {\n",
       "        text-align: right;\n",
       "    }\n",
       "</style>\n",
       "<table border=\"1\" class=\"dataframe\">\n",
       "  <thead>\n",
       "    <tr style=\"text-align: right;\">\n",
       "      <th></th>\n",
       "      <th>Booking_ID</th>\n",
       "      <th>no_of_adults</th>\n",
       "      <th>no_of_children</th>\n",
       "      <th>no_of_weekend_nights</th>\n",
       "      <th>no_of_week_nights</th>\n",
       "      <th>type_of_meal_plan</th>\n",
       "      <th>required_car_parking_space</th>\n",
       "      <th>room_type_reserved</th>\n",
       "      <th>lead_time</th>\n",
       "      <th>arrival_year</th>\n",
       "      <th>arrival_month</th>\n",
       "      <th>arrival_date</th>\n",
       "      <th>market_segment_type</th>\n",
       "      <th>repeated_guest</th>\n",
       "      <th>no_of_previous_cancellations</th>\n",
       "      <th>no_of_previous_bookings_not_canceled</th>\n",
       "      <th>avg_price_per_room</th>\n",
       "      <th>no_of_special_requests</th>\n",
       "      <th>booking_status</th>\n",
       "    </tr>\n",
       "  </thead>\n",
       "  <tbody>\n",
       "    <tr>\n",
       "      <th>0</th>\n",
       "      <td>INN00001</td>\n",
       "      <td>2</td>\n",
       "      <td>0</td>\n",
       "      <td>1</td>\n",
       "      <td>2</td>\n",
       "      <td>Meal Plan 1</td>\n",
       "      <td>0</td>\n",
       "      <td>Room_Type 1</td>\n",
       "      <td>224</td>\n",
       "      <td>2017</td>\n",
       "      <td>10</td>\n",
       "      <td>2</td>\n",
       "      <td>Offline</td>\n",
       "      <td>0</td>\n",
       "      <td>0</td>\n",
       "      <td>0</td>\n",
       "      <td>65.00</td>\n",
       "      <td>0</td>\n",
       "      <td>Not_Canceled</td>\n",
       "    </tr>\n",
       "    <tr>\n",
       "      <th>1</th>\n",
       "      <td>INN00002</td>\n",
       "      <td>2</td>\n",
       "      <td>0</td>\n",
       "      <td>2</td>\n",
       "      <td>3</td>\n",
       "      <td>Not Selected</td>\n",
       "      <td>0</td>\n",
       "      <td>Room_Type 1</td>\n",
       "      <td>5</td>\n",
       "      <td>2018</td>\n",
       "      <td>11</td>\n",
       "      <td>6</td>\n",
       "      <td>Online</td>\n",
       "      <td>0</td>\n",
       "      <td>0</td>\n",
       "      <td>0</td>\n",
       "      <td>106.68</td>\n",
       "      <td>1</td>\n",
       "      <td>Not_Canceled</td>\n",
       "    </tr>\n",
       "    <tr>\n",
       "      <th>2</th>\n",
       "      <td>INN00003</td>\n",
       "      <td>1</td>\n",
       "      <td>0</td>\n",
       "      <td>2</td>\n",
       "      <td>1</td>\n",
       "      <td>Meal Plan 1</td>\n",
       "      <td>0</td>\n",
       "      <td>Room_Type 1</td>\n",
       "      <td>1</td>\n",
       "      <td>2018</td>\n",
       "      <td>2</td>\n",
       "      <td>28</td>\n",
       "      <td>Online</td>\n",
       "      <td>0</td>\n",
       "      <td>0</td>\n",
       "      <td>0</td>\n",
       "      <td>60.00</td>\n",
       "      <td>0</td>\n",
       "      <td>Canceled</td>\n",
       "    </tr>\n",
       "    <tr>\n",
       "      <th>3</th>\n",
       "      <td>INN00004</td>\n",
       "      <td>2</td>\n",
       "      <td>0</td>\n",
       "      <td>0</td>\n",
       "      <td>2</td>\n",
       "      <td>Meal Plan 1</td>\n",
       "      <td>0</td>\n",
       "      <td>Room_Type 1</td>\n",
       "      <td>211</td>\n",
       "      <td>2018</td>\n",
       "      <td>5</td>\n",
       "      <td>20</td>\n",
       "      <td>Online</td>\n",
       "      <td>0</td>\n",
       "      <td>0</td>\n",
       "      <td>0</td>\n",
       "      <td>100.00</td>\n",
       "      <td>0</td>\n",
       "      <td>Canceled</td>\n",
       "    </tr>\n",
       "    <tr>\n",
       "      <th>4</th>\n",
       "      <td>INN00005</td>\n",
       "      <td>2</td>\n",
       "      <td>0</td>\n",
       "      <td>1</td>\n",
       "      <td>1</td>\n",
       "      <td>Not Selected</td>\n",
       "      <td>0</td>\n",
       "      <td>Room_Type 1</td>\n",
       "      <td>48</td>\n",
       "      <td>2018</td>\n",
       "      <td>4</td>\n",
       "      <td>11</td>\n",
       "      <td>Online</td>\n",
       "      <td>0</td>\n",
       "      <td>0</td>\n",
       "      <td>0</td>\n",
       "      <td>94.50</td>\n",
       "      <td>0</td>\n",
       "      <td>Canceled</td>\n",
       "    </tr>\n",
       "  </tbody>\n",
       "</table>\n",
       "</div>"
      ],
      "text/plain": [
       "  Booking_ID  no_of_adults  no_of_children  no_of_weekend_nights  \\\n",
       "0   INN00001             2               0                     1   \n",
       "1   INN00002             2               0                     2   \n",
       "2   INN00003             1               0                     2   \n",
       "3   INN00004             2               0                     0   \n",
       "4   INN00005             2               0                     1   \n",
       "\n",
       "   no_of_week_nights type_of_meal_plan  required_car_parking_space  \\\n",
       "0                  2       Meal Plan 1                           0   \n",
       "1                  3      Not Selected                           0   \n",
       "2                  1       Meal Plan 1                           0   \n",
       "3                  2       Meal Plan 1                           0   \n",
       "4                  1      Not Selected                           0   \n",
       "\n",
       "  room_type_reserved  lead_time  arrival_year  arrival_month  arrival_date  \\\n",
       "0        Room_Type 1        224          2017             10             2   \n",
       "1        Room_Type 1          5          2018             11             6   \n",
       "2        Room_Type 1          1          2018              2            28   \n",
       "3        Room_Type 1        211          2018              5            20   \n",
       "4        Room_Type 1         48          2018              4            11   \n",
       "\n",
       "  market_segment_type  repeated_guest  no_of_previous_cancellations  \\\n",
       "0             Offline               0                             0   \n",
       "1              Online               0                             0   \n",
       "2              Online               0                             0   \n",
       "3              Online               0                             0   \n",
       "4              Online               0                             0   \n",
       "\n",
       "   no_of_previous_bookings_not_canceled  avg_price_per_room  \\\n",
       "0                                     0               65.00   \n",
       "1                                     0              106.68   \n",
       "2                                     0               60.00   \n",
       "3                                     0              100.00   \n",
       "4                                     0               94.50   \n",
       "\n",
       "   no_of_special_requests booking_status  \n",
       "0                       0   Not_Canceled  \n",
       "1                       1   Not_Canceled  \n",
       "2                       0       Canceled  \n",
       "3                       0       Canceled  \n",
       "4                       0       Canceled  "
      ]
     },
     "execution_count": null,
     "metadata": {},
     "output_type": "execute_result"
    }
   ],
   "source": [
    "hotel_data.head()"
   ]
  },
  {
   "cell_type": "code",
   "execution_count": null,
   "metadata": {},
   "outputs": [
    {
     "name": "stdout",
     "output_type": "stream",
     "text": [
      "(36275, 19)\n"
     ]
    }
   ],
   "source": [
    "print(hotel_data.shape)"
   ]
  },
  {
   "cell_type": "code",
   "execution_count": null,
   "metadata": {},
   "outputs": [
    {
     "name": "stdout",
     "output_type": "stream",
     "text": [
      "Booking_ID                              0\n",
      "no_of_adults                            0\n",
      "no_of_children                          0\n",
      "no_of_weekend_nights                    0\n",
      "no_of_week_nights                       0\n",
      "type_of_meal_plan                       0\n",
      "required_car_parking_space              0\n",
      "room_type_reserved                      0\n",
      "lead_time                               0\n",
      "arrival_year                            0\n",
      "arrival_month                           0\n",
      "arrival_date                            0\n",
      "market_segment_type                     0\n",
      "repeated_guest                          0\n",
      "no_of_previous_cancellations            0\n",
      "no_of_previous_bookings_not_canceled    0\n",
      "avg_price_per_room                      0\n",
      "no_of_special_requests                  0\n",
      "booking_status                          0\n",
      "dtype: int64\n"
     ]
    }
   ],
   "source": [
    "# find missing values\n",
    "print(hotel_data.isnull().sum())"
   ]
  },
  {
   "cell_type": "code",
   "execution_count": null,
   "metadata": {},
   "outputs": [],
   "source": []
  },
  {
   "attachments": {},
   "cell_type": "markdown",
   "metadata": {},
   "source": [
    "There are no missing values."
   ]
  },
  {
   "cell_type": "code",
   "execution_count": null,
   "metadata": {},
   "outputs": [
    {
     "name": "stdout",
     "output_type": "stream",
     "text": [
      "Booking_ID                               object\n",
      "no_of_adults                              int64\n",
      "no_of_children                            int64\n",
      "no_of_weekend_nights                      int64\n",
      "no_of_week_nights                         int64\n",
      "type_of_meal_plan                        object\n",
      "required_car_parking_space                int64\n",
      "room_type_reserved                       object\n",
      "lead_time                                 int64\n",
      "arrival_year                              int64\n",
      "arrival_month                             int64\n",
      "arrival_date                              int64\n",
      "market_segment_type                      object\n",
      "repeated_guest                            int64\n",
      "no_of_previous_cancellations              int64\n",
      "no_of_previous_bookings_not_canceled      int64\n",
      "avg_price_per_room                      float64\n",
      "no_of_special_requests                    int64\n",
      "booking_status                           object\n",
      "dtype: object\n"
     ]
    }
   ],
   "source": [
    "print(hotel_data.dtypes)"
   ]
  },
  {
   "attachments": {},
   "cell_type": "markdown",
   "metadata": {},
   "source": [
    "Some features, and even the target variable, are not numerical. We will need to make these values numerical in preprocessing."
   ]
  },
  {
   "attachments": {},
   "cell_type": "markdown",
   "metadata": {},
   "source": [
    "### Pre-processing"
   ]
  },
  {
   "cell_type": "code",
   "execution_count": null,
   "metadata": {},
   "outputs": [],
   "source": [
    "# make Booking_ID an integer\n",
    "hotel_data['Booking_ID'] = hotel_data['Booking_ID'].apply(lambda x: int(x[3:]))"
   ]
  },
  {
   "cell_type": "code",
   "execution_count": null,
   "metadata": {},
   "outputs": [],
   "source": [
    "# Use one-hot encoding to convert categorical data into numerical\n",
    "# data. This introduces new features into the dataset.\n",
    "hotel_data = pd.get_dummies(hotel_data, columns=['type_of_meal_plan', 'room_type_reserved', 'market_segment_type'])"
   ]
  },
  {
   "cell_type": "code",
   "execution_count": null,
   "metadata": {},
   "outputs": [
    {
     "name": "stdout",
     "output_type": "stream",
     "text": [
      "Index(['Booking_ID', 'no_of_adults', 'no_of_children', 'no_of_weekend_nights',\n",
      "       'no_of_week_nights', 'required_car_parking_space', 'lead_time',\n",
      "       'arrival_year', 'arrival_month', 'arrival_date', 'repeated_guest',\n",
      "       'no_of_previous_cancellations', 'no_of_previous_bookings_not_canceled',\n",
      "       'avg_price_per_room', 'no_of_special_requests', 'booking_status',\n",
      "       'type_of_meal_plan_Meal Plan 1', 'type_of_meal_plan_Meal Plan 2',\n",
      "       'type_of_meal_plan_Meal Plan 3', 'type_of_meal_plan_Not Selected',\n",
      "       'room_type_reserved_Room_Type 1', 'room_type_reserved_Room_Type 2',\n",
      "       'room_type_reserved_Room_Type 3', 'room_type_reserved_Room_Type 4',\n",
      "       'room_type_reserved_Room_Type 5', 'room_type_reserved_Room_Type 6',\n",
      "       'room_type_reserved_Room_Type 7', 'market_segment_type_Aviation',\n",
      "       'market_segment_type_Complementary', 'market_segment_type_Corporate',\n",
      "       'market_segment_type_Offline', 'market_segment_type_Online'],\n",
      "      dtype='object')\n"
     ]
    }
   ],
   "source": [
    "print(hotel_data.columns)"
   ]
  },
  {
   "cell_type": "code",
   "execution_count": 120,
   "metadata": {},
   "outputs": [],
   "source": [
    "# drop columns that are not needed\n",
    "# hotel_data = hotel_data.drop(columns=['Booking_date', 'Check_in_date', 'Check_out_date'])\n"
   ]
  },
  {
   "cell_type": "code",
   "execution_count": null,
   "metadata": {},
   "outputs": [
    {
     "name": "stdout",
     "output_type": "stream",
     "text": [
      "Booking_ID                                int64\n",
      "no_of_adults                              int64\n",
      "no_of_children                            int64\n",
      "no_of_weekend_nights                      int64\n",
      "no_of_week_nights                         int64\n",
      "required_car_parking_space                int64\n",
      "lead_time                                 int64\n",
      "arrival_year                              int64\n",
      "arrival_month                             int64\n",
      "arrival_date                              int64\n",
      "repeated_guest                            int64\n",
      "no_of_previous_cancellations              int64\n",
      "no_of_previous_bookings_not_canceled      int64\n",
      "avg_price_per_room                      float64\n",
      "no_of_special_requests                    int64\n",
      "booking_status                            int64\n",
      "type_of_meal_plan_Meal Plan 1              bool\n",
      "type_of_meal_plan_Meal Plan 2              bool\n",
      "type_of_meal_plan_Meal Plan 3              bool\n",
      "type_of_meal_plan_Not Selected             bool\n",
      "room_type_reserved_Room_Type 1             bool\n",
      "room_type_reserved_Room_Type 2             bool\n",
      "room_type_reserved_Room_Type 3             bool\n",
      "room_type_reserved_Room_Type 4             bool\n",
      "room_type_reserved_Room_Type 5             bool\n",
      "room_type_reserved_Room_Type 6             bool\n",
      "room_type_reserved_Room_Type 7             bool\n",
      "market_segment_type_Aviation               bool\n",
      "market_segment_type_Complementary          bool\n",
      "market_segment_type_Corporate              bool\n",
      "market_segment_type_Offline                bool\n",
      "market_segment_type_Online                 bool\n",
      "dtype: object\n"
     ]
    }
   ],
   "source": [
    "# Transform the booking_status by mapping to a binary encoding.\n",
    "hotel_data['booking_status'] = hotel_data['booking_status'].map({'Canceled': 0, 'Not_Canceled': 1})\n",
    "\n",
    "print(hotel_data.dtypes)\n"
   ]
  },
  {
   "attachments": {},
   "cell_type": "markdown",
   "metadata": {},
   "source": [
    "All fields are now numerical."
   ]
  },
  {
   "attachments": {},
   "cell_type": "markdown",
   "metadata": {},
   "source": [
    "### Correlation Analysis"
   ]
  },
  {
   "cell_type": "code",
   "execution_count": null,
   "metadata": {},
   "outputs": [
    {
     "data": {
      "image/png": "[encoded data removed]",
      "text/plain": [
       "<Figure size 640x480 with 1 Axes>"
      ]
     },
     "metadata": {},
     "output_type": "display_data"
    }
   ],
   "source": [
    "import matplotlib.pyplot as plt\n",
    "\n",
    "hotel_data['booking_status'].value_counts().plot(kind='bar')\n",
    "\n",
    "plt.show()"
   ]
  },
  {
   "attachments": {},
   "cell_type": "markdown",
   "metadata": {},
   "source": [
    "32.8% of all reservations are cancelled. Although not perfectly balanced with respect to the target variable, this skew is not too servere. Given a more severe skew or should we believe this an issue going forward, we could consider employing techniques such as under/over sampling to address the imbalance."
   ]
  },
  {
   "cell_type": "code",
   "execution_count": null,
   "metadata": {},
   "outputs": [
    {
     "name": "stdout",
     "output_type": "stream",
     "text": [
      "booking_status                          1.000000\n",
      "no_of_special_requests                  0.253070\n",
      "market_segment_type_Corporate           0.112993\n",
      "repeated_guest                          0.107287\n",
      "required_car_parking_space              0.086185\n",
      "market_segment_type_Complementary       0.072867\n",
      "type_of_meal_plan_Meal Plan 1           0.061267\n",
      "no_of_previous_bookings_not_canceled    0.060179\n",
      "market_segment_type_Offline             0.038351\n",
      "no_of_previous_cancellations            0.033728\n",
      "room_type_reserved_Room_Type 1          0.020326\n",
      "room_type_reserved_Room_Type 7          0.014062\n",
      "arrival_month                           0.011233\n",
      "room_type_reserved_Room_Type 5          0.010224\n",
      "market_segment_type_Aviation            0.003964\n",
      "type_of_meal_plan_Meal Plan 3           0.003193\n",
      "room_type_reserved_Room_Type 3          0.001241\n",
      "room_type_reserved_Room_Type 2         -0.000548\n",
      "type_of_meal_plan_Not Selected         -0.003072\n",
      "Booking_ID                             -0.006237\n",
      "arrival_date                           -0.010629\n",
      "room_type_reserved_Room_Type 4         -0.013309\n",
      "room_type_reserved_Room_Type 6         -0.032652\n",
      "no_of_children                         -0.033078\n",
      "no_of_weekend_nights                   -0.061563\n",
      "type_of_meal_plan_Meal Plan 2          -0.086370\n",
      "no_of_adults                           -0.086920\n",
      "no_of_week_nights                      -0.092996\n",
      "market_segment_type_Online             -0.106362\n",
      "avg_price_per_room                     -0.142569\n",
      "arrival_year                           -0.179529\n",
      "lead_time                              -0.438538\n",
      "Name: booking_status, dtype: float64\n"
     ]
    }
   ],
   "source": [
    "corr = hotel_data.corr()\n",
    "print(corr['booking_status'].sort_values(ascending=False))"
   ]
  },
  {
   "attachments": {},
   "cell_type": "markdown",
   "metadata": {},
   "source": [
    "Features such as Booking_ID and arrival_date have little to no correlation with our target variable. Features such as lead_time and no_of_special_requests have stronger correlations to our target variable. For lead_time, there is a negative correlation between this feature and the binary target varible. Keeping in mind that 1 signifies a non-canceled booking, as lead_time increases, the booking is more likely to be canceled.\n",
    "\n",
    "Another set of features worth examining are the 5 varieties market_segement_types. Some market types such as coperate, complimentary, offline, and aviation have positive correlations to the target variable, while segement type online has a negative correlation. This suggests various relationships between the type of reservation and whether the reservation was canceled or not. One such relationship is that online bookings are more likely to be canceled than in-person bookings."
   ]
  },
  {
   "cell_type": "code",
   "execution_count": null,
   "metadata": {},
   "outputs": [],
   "source": [
    "import matplotlib.pyplot as plt"
   ]
  },
  {
   "cell_type": "code",
   "execution_count": null,
   "metadata": {},
   "outputs": [
    {
     "data": {
      "image/png": "[encoded data removed]",
      "text/plain": [
       "<Figure size 640x480 with 1 Axes>"
      ]
     },
     "metadata": {},
     "output_type": "display_data"
    }
   ],
   "source": [
    "large_lead_time_data = hotel_data[hotel_data['lead_time'] > 300]\n",
    "\n",
    "plt.scatter(large_lead_time_data['lead_time'], large_lead_time_data['booking_status'])\n",
    "plt.xlabel('lead_time')\n",
    "plt.ylabel('booking_status')\n",
    "plt.title('lead_time vs booking_status for lead_time > 300 days')\n",
    "plt.show()\n"
   ]
  },
  {
   "attachments": {},
   "cell_type": "markdown",
   "metadata": {},
   "source": [
    "Taking a closer look at lead time, we can start to visualize the negative correlation between lead_time and booking_status. Reservations done further in advance are more likely to be cancelled."
   ]
  },
  {
   "attachments": {},
   "cell_type": "markdown",
   "metadata": {},
   "source": [
    "### Short analysis of arrival_month and arrival_date"
   ]
  },
  {
   "attachments": {},
   "cell_type": "markdown",
   "metadata": {},
   "source": [
    "We were not sure whether or not there was any significance to the arrival_month or arrival_date so we would know if we should do a cyclical encoding or not."
   ]
  },
  {
   "cell_type": "code",
   "execution_count": null,
   "metadata": {},
   "outputs": [],
   "source": [
    "hotel_data_cancelled = hotel_data[hotel_data['booking_status'] == 0]\n",
    "hotel_data_not_cancelled = hotel_data[hotel_data['booking_status'] == 1]\n",
    "\n",
    "hotel_data_cancelled['arrival_month'].value_counts().sort_index().plot(kind='bar')\n",
    "plt.show()\n",
    "hotel_data_not_cancelled['arrival_month'].value_counts().sort_index().plot(kind='bar')\n",
    "plt.show()\n",
    "hotel_data_cancelled['arrival_date'].value_counts().sort_index().plot(kind='bar')\n",
    "plt.show()\n",
    "hotel_data_not_cancelled['arrival_date'].value_counts().sort_index().plot(kind='bar')\n",
    "plt.show()"
   ]
  },
  {
   "attachments": {},
   "cell_type": "markdown",
   "metadata": {},
   "source": [
    "From looking at these graphs and comparing the number of bookings kept per month and the number of bookings cancelled per month it looks like the only two months that might have any significance would be January and December. However, all of the other months look like there is no significance so it does not make sense to use or make cyclical. Looking at the number of bookings for arrival date kept vs number of bookings canceled for arrival date it does not look like there is any significance between days of the month so it is unnesessary and not helpful to the model to keep these variables."
   ]
  },
  {
   "cell_type": "code",
   "execution_count": 109,
   "metadata": {},
   "outputs": [
    {
     "name": "stdout",
     "output_type": "stream",
     "text": [
      "no_of_adults                              int64\n",
      "no_of_children                            int64\n",
      "no_of_weekend_nights                      int64\n",
      "no_of_week_nights                         int64\n",
      "required_car_parking_space                int64\n",
      "lead_time                                 int64\n",
      "repeated_guest                            int64\n",
      "no_of_previous_cancellations              int64\n",
      "no_of_previous_bookings_not_canceled      int64\n",
      "avg_price_per_room                      float64\n",
      "no_of_special_requests                    int64\n",
      "booking_status                            int64\n",
      "type_of_meal_plan_Meal Plan 1              bool\n",
      "type_of_meal_plan_Meal Plan 2              bool\n",
      "type_of_meal_plan_Meal Plan 3              bool\n",
      "type_of_meal_plan_Not Selected             bool\n",
      "room_type_reserved_Room_Type 1             bool\n",
      "room_type_reserved_Room_Type 2             bool\n",
      "room_type_reserved_Room_Type 3             bool\n",
      "room_type_reserved_Room_Type 4             bool\n",
      "room_type_reserved_Room_Type 5             bool\n",
      "room_type_reserved_Room_Type 6             bool\n",
      "room_type_reserved_Room_Type 7             bool\n",
      "market_segment_type_Aviation               bool\n",
      "market_segment_type_Complementary          bool\n",
      "market_segment_type_Corporate              bool\n",
      "market_segment_type_Offline                bool\n",
      "market_segment_type_Online                 bool\n",
      "dtype: object\n"
     ]
    }
   ],
   "source": [
    "hotel_data.drop(['arrival_month', 'arrival_date', 'Booking_ID', 'arrival_year'], axis=1, inplace=True)\n",
    "print(hotel_data.dtypes)"
   ]
  },
  {
   "attachments": {},
   "cell_type": "markdown",
   "metadata": {},
   "source": [
    "### PCA Dimensionality Reduction "
   ]
  },
  {
   "attachments": {},
   "cell_type": "markdown",
   "metadata": {},
   "source": [
    "Since the hotel reservations dataset contains 19 features, we continue by using PCA (principal component analysis) for dimensionality reduction. For our initial implementation, we start by reducing to 2 dimensions to get an initial sense for the data (and because a dimensionality of 2 is appropriate for data visualization). "
   ]
  },
  {
   "cell_type": "code",
   "execution_count": null,
   "metadata": {},
   "outputs": [
    {
     "name": "stdout",
     "output_type": "stream",
     "text": [
      "[[139.88061933 -34.15987709]\n",
      " [-80.2923924    0.80086204]\n",
      " [-82.86485553 -45.98627595]\n",
      " ...\n",
      " [ 62.90002595  -3.0954772 ]\n",
      " [-21.94692664  -9.59995597]\n",
      " [119.92749361  61.93664024]]\n"
     ]
    }
   ],
   "source": [
    "# initial implementation (2 dimensions)\n",
    "from sklearn.decomposition import PCA\n",
    "\n",
    "# create feature set X and target variable y\n",
    "X = hotel_data.drop('booking_status', axis=1)\n",
    "y = hotel_data['booking_status']\n",
    "\n",
    "pca = PCA(n_components=2)\n",
    "hotal2D = pca.fit_transform(X)\n",
    "\n",
    "print(hotal2D)"
   ]
  },
  {
   "cell_type": "code",
   "execution_count": null,
   "metadata": {},
   "outputs": [
    {
     "name": "stdout",
     "output_type": "stream",
     "text": [
      "[0.85694104 0.14212837]\n"
     ]
    }
   ],
   "source": [
    "print(pca.explained_variance_ratio_)\n"
   ]
  },
  {
   "attachments": {},
   "cell_type": "markdown",
   "metadata": {},
   "source": [
    "The explained variance ratio indicates the proportion of a dataset's variance explained by each principal component. The results show that the first principal component in the hotel reservations dataset accounts for a vast majority of the variance (roughly 99.99%). \n",
    "\n",
    "Next, we implement PCA with the optimal number of dimensions. In this case, we reduce down to the number of dimensions accounting for 95% of the variance."
   ]
  },
  {
   "cell_type": "code",
   "execution_count": null,
   "metadata": {},
   "outputs": [
    {
     "name": "stdout",
     "output_type": "stream",
     "text": [
      "2\n"
     ]
    }
   ],
   "source": [
    "# implementation with optimal number of dimensions \n",
    "import numpy as np\n",
    "\n",
    "pca = PCA()\n",
    "pca.fit(X)\n",
    "cumsum = np.cumsum(pca.explained_variance_ratio_)\n",
    "d = np.argmax(cumsum >= 0.95) + 1\n",
    "\n",
    "pca = PCA(n_components=0.95)\n",
    "X_reduced = pca.fit_transform(X)\n",
    "\n",
    "print(pca.n_components_)"
   ]
  },
  {
   "attachments": {},
   "cell_type": "markdown",
   "metadata": {},
   "source": [
    "The optimal number of dimensions for this dataset is merely one. (Since our first principal component accounts for 99.99% of the variance, this is what we would expect based on the explained variance ratio.) This indicates that the vast majority of the variance in the hotel reservations dataset can be explained by just one linear combination of features. "
   ]
  },
  {
   "attachments": {},
   "cell_type": "markdown",
   "metadata": {},
   "source": [
    "### Logistic Regression"
   ]
  },
  {
   "cell_type": "code",
   "execution_count": 113,
   "metadata": {},
   "outputs": [
    {
     "name": "stdout",
     "output_type": "stream",
     "text": [
      "Coefficients:\n",
      "   no_of_adults  no_of_children  no_of_weekend_nights  no_of_week_nights  \\\n",
      "0     -0.056202       -0.058754             -0.112828          -0.040708   \n",
      "\n",
      "   required_car_parking_space  lead_time  repeated_guest  \\\n",
      "0                    0.293952  -1.342494        0.364251   \n",
      "\n",
      "   no_of_previous_cancellations  no_of_previous_bookings_not_canceled  \\\n",
      "0                      -0.09901                              0.110753   \n",
      "\n",
      "   avg_price_per_room  ...  room_type_reserved_Room_Type 3  \\\n",
      "0           -0.658787  ...                       -0.016005   \n",
      "\n",
      "   room_type_reserved_Room_Type 4  room_type_reserved_Room_Type 5  \\\n",
      "0                        0.009508                        0.036232   \n",
      "\n",
      "   room_type_reserved_Room_Type 6  room_type_reserved_Room_Type 7  \\\n",
      "0                        0.126637                        0.075422   \n",
      "\n",
      "   market_segment_type_Aviation  market_segment_type_Complementary  \\\n",
      "0                     -0.061481                           0.602212   \n",
      "\n",
      "   market_segment_type_Corporate  market_segment_type_Offline  \\\n",
      "0                      -0.027052                     0.386228   \n",
      "\n",
      "   market_segment_type_Online  \n",
      "0                   -0.474623  \n",
      "\n",
      "[1 rows x 27 columns]\n"
     ]
    }
   ],
   "source": [
    "from sklearn.linear_model import LogisticRegression\n",
    "from sklearn.model_selection import train_test_split\n",
    "from sklearn.preprocessing import StandardScaler\n",
    "\n",
    "X_train, X_test, y_train, y_test = train_test_split(X, y, random_state=42)\n",
    "\n",
    "scaler = StandardScaler()\n",
    "X_train_scaled = scaler.fit_transform(X_train)\n",
    "X_test_scaled = scaler.transform(X_test)\n",
    "\n",
    "\n",
    "log_reg = LogisticRegression(random_state=42)\n",
    "log_reg.fit(X_train_scaled, y_train)\n",
    "\n",
    "log_reg_coefficients = log_reg.coef_\n",
    "coefficients_df = pd.DataFrame(log_reg_coefficients, columns=X.columns)\n",
    "print(\"Coefficients:\")\n",
    "print(coefficients_df)\n",
    "\n"
   ]
  },
  {
   "attachments": {},
   "cell_type": "markdown",
   "metadata": {},
   "source": [
    "Testing accuracy, Precision and recall"
   ]
  },
  {
   "cell_type": "code",
   "execution_count": 114,
   "metadata": {},
   "outputs": [
    {
     "name": "stdout",
     "output_type": "stream",
     "text": [
      "Accuracy: 0.8042783107288566\n",
      "Precision: 0.8216762134458848\n",
      "Recall: 0.9020354128744001\n"
     ]
    }
   ],
   "source": [
    "from sklearn.metrics import accuracy_score, precision_score, recall_score\n",
    "y_pred = log_reg.predict(X_test_scaled)\n",
    "accuracy = accuracy_score(y_test, y_pred)\n",
    "precision = precision_score(y_test, y_pred)\n",
    "recall = recall_score(y_test, y_pred)\n",
    "\n",
    "print(\"Accuracy:\", accuracy)\n",
    "print(\"Precision:\", precision)\n",
    "print(\"Recall:\", recall)\n"
   ]
  },
  {
   "attachments": {},
   "cell_type": "markdown",
   "metadata": {},
   "source": [
    "### Decision Tree Classifier"
   ]
  },
  {
   "cell_type": "code",
   "execution_count": 130,
   "metadata": {},
   "outputs": [
    {
     "name": "stdout",
     "output_type": "stream",
     "text": [
      "{'max_depth': 12, 'min_samples_leaf': 1, 'min_samples_split': 2}\n"
     ]
    }
   ],
   "source": [
    "from sklearn.model_selection import train_test_split\n",
    "from sklearn.tree import DecisionTreeClassifier\n",
    "from sklearn.metrics import confusion_matrix\n",
    "from sklearn.metrics import classification_report\n",
    "\n",
    "X_train, X_test, y_train, y_test = train_test_split(X, y, random_state=42)\n",
    "\n",
    "# use grid search to find the best hyperparameters\n",
    "from sklearn.model_selection import GridSearchCV\n",
    "\n",
    "param_grid = {\n",
    "    'max_depth': range(10, 20),\n",
    "    'min_samples_split': range(2, 5),\n",
    "    'min_samples_leaf': range(1, 5)\n",
    "}\n",
    "\n",
    "dt = DecisionTreeClassifier()\n",
    "grid_search = GridSearchCV(dt, param_grid, cv=5, scoring='accuracy')\n",
    "grid_search.fit(X_train, y_train)\n",
    "\n",
    "print(grid_search.best_params_)\n",
    "\n",
    "best_max_depth = grid_search.best_params_['max_depth']\n",
    "best_min_samples_split = grid_search.best_params_['min_samples_split']\n",
    "best_min_samples_leaf = grid_search.best_params_['min_samples_leaf']\n",
    "\n"
   ]
  },
  {
   "cell_type": "code",
   "execution_count": 135,
   "metadata": {},
   "outputs": [
    {
     "name": "stdout",
     "output_type": "stream",
     "text": [
      " confusion matrix: \n",
      " [[2316  710]\n",
      " [ 404 5639]]\n",
      "\n",
      "\n",
      " classification report: \n",
      "               precision    recall  f1-score   support\n",
      "\n",
      "           0       0.85      0.77      0.81      3026\n",
      "           1       0.89      0.93      0.91      6043\n",
      "\n",
      "    accuracy                           0.88      9069\n",
      "   macro avg       0.87      0.85      0.86      9069\n",
      "weighted avg       0.88      0.88      0.88      9069\n",
      "\n"
     ]
    }
   ],
   "source": [
    "clf = DecisionTreeClassifier(max_depth=best_max_depth, min_samples_split=best_min_samples_split, min_samples_leaf=best_min_samples_leaf, random_state=42)\n",
    "clf.fit(X_train, y_train)\n",
    "\n",
    "y_pred = clf.predict(X_test)\n",
    "\n",
    "print(f' confusion matrix: \\n {confusion_matrix(y_test, y_pred)}\\n\\n')\n",
    "print(f' classification report: \\n {classification_report(y_test, y_pred)}')"
   ]
  },
  {
   "cell_type": "code",
   "execution_count": 132,
   "metadata": {},
   "outputs": [
    {
     "data": {
      "image/svg+xml": [
       "<?xml version=\"1.0\" encoding=\"UTF-8\" standalone=\"no\"?>\n",
       "<!DOCTYPE svg PUBLIC \"-//W3C//DTD SVG 1.1//EN\"\n",
       " \"http://www.w3.org/Graphics/SVG/1.1/DTD/svg11.dtd\">\n",
       "<!-- Generated by graphviz version 6.0.1 (20220911.2005)\n",
       " -->\n",
       "<!-- Title: Tree Pages: 1 -->\n",
       "<svg width=\"1864pt\" height=\"520pt\"\n",
       " viewBox=\"0.00 0.00 1863.50 520.00\" xmlns=\"http://www.w3.org/2000/svg\" xmlns:xlink=\"http://www.w3.org/1999/xlink\">\n",
       "<g id=\"graph0\" class=\"graph\" transform=\"scale(1 1) rotate(0) translate(4 516)\">\n",
       "<title>Tree</title>\n",
       "<polygon fill=\"white\" stroke=\"none\" points=\"-4,4 -4,-516 1859.5,-516 1859.5,4 -4,4\"/>\n",
       "<!-- 0 -->\n",
       "<g id=\"node1\" class=\"node\">\n",
       "<title>0</title>\n",
       "<polygon fill=\"#99ccf2\" stroke=\"black\" points=\"933,-512 757,-512 757,-429 933,-429 933,-512\"/>\n",
       "<text text-anchor=\"middle\" x=\"845\" y=\"-496.8\" font-family=\"Helvetica,sans-Serif\" font-size=\"14.00\">lead_time &lt;= 151.5</text>\n",
       "<text text-anchor=\"middle\" x=\"845\" y=\"-481.8\" font-family=\"Helvetica,sans-Serif\" font-size=\"14.00\">gini = 0.439</text>\n",
       "<text text-anchor=\"middle\" x=\"845\" y=\"-466.8\" font-family=\"Helvetica,sans-Serif\" font-size=\"14.00\">samples = 27206</text>\n",
       "<text text-anchor=\"middle\" x=\"845\" y=\"-451.8\" font-family=\"Helvetica,sans-Serif\" font-size=\"14.00\">value = [8859, 18347]</text>\n",
       "<text text-anchor=\"middle\" x=\"845\" y=\"-436.8\" font-family=\"Helvetica,sans-Serif\" font-size=\"14.00\">class = Canceled</text>\n",
       "</g>\n",
       "<!-- 1 -->\n",
       "<g id=\"node2\" class=\"node\">\n",
       "<title>1</title>\n",
       "<polygon fill=\"#74baed\" stroke=\"black\" points=\"740.5,-393 509.5,-393 509.5,-310 740.5,-310 740.5,-393\"/>\n",
       "<text text-anchor=\"middle\" x=\"625\" y=\"-377.8\" font-family=\"Helvetica,sans-Serif\" font-size=\"14.00\">no_of_special_requests &lt;= 0.5</text>\n",
       "<text text-anchor=\"middle\" x=\"625\" y=\"-362.8\" font-family=\"Helvetica,sans-Serif\" font-size=\"14.00\">gini = 0.353</text>\n",
       "<text text-anchor=\"middle\" x=\"625\" y=\"-347.8\" font-family=\"Helvetica,sans-Serif\" font-size=\"14.00\">samples = 21833</text>\n",
       "<text text-anchor=\"middle\" x=\"625\" y=\"-332.8\" font-family=\"Helvetica,sans-Serif\" font-size=\"14.00\">value = [5005, 16828]</text>\n",
       "<text text-anchor=\"middle\" x=\"625\" y=\"-317.8\" font-family=\"Helvetica,sans-Serif\" font-size=\"14.00\">class = Canceled</text>\n",
       "</g>\n",
       "<!-- 0&#45;&gt;1 -->\n",
       "<g id=\"edge1\" class=\"edge\">\n",
       "<title>0&#45;&gt;1</title>\n",
       "<path fill=\"none\" stroke=\"black\" d=\"M768.67,-428.91C749.82,-418.88 729.5,-408.07 710.25,-397.84\"/>\n",
       "<polygon fill=\"black\" stroke=\"black\" points=\"711.67,-394.63 701.19,-393.02 708.38,-400.81 711.67,-394.63\"/>\n",
       "<text text-anchor=\"middle\" x=\"708.5\" y=\"-413.23\" font-family=\"Helvetica,sans-Serif\" font-size=\"14.00\">True</text>\n",
       "</g>\n",
       "<!-- 818 -->\n",
       "<g id=\"node17\" class=\"node\">\n",
       "<title>818</title>\n",
       "<polygon fill=\"#efb387\" stroke=\"black\" points=\"1226,-393 988,-393 988,-310 1226,-310 1226,-393\"/>\n",
       "<text text-anchor=\"middle\" x=\"1107\" y=\"-377.8\" font-family=\"Helvetica,sans-Serif\" font-size=\"14.00\">avg_price_per_room &lt;= 100.04</text>\n",
       "<text text-anchor=\"middle\" x=\"1107\" y=\"-362.8\" font-family=\"Helvetica,sans-Serif\" font-size=\"14.00\">gini = 0.406</text>\n",
       "<text text-anchor=\"middle\" x=\"1107\" y=\"-347.8\" font-family=\"Helvetica,sans-Serif\" font-size=\"14.00\">samples = 5373</text>\n",
       "<text text-anchor=\"middle\" x=\"1107\" y=\"-332.8\" font-family=\"Helvetica,sans-Serif\" font-size=\"14.00\">value = [3854, 1519]</text>\n",
       "<text text-anchor=\"middle\" x=\"1107\" y=\"-317.8\" font-family=\"Helvetica,sans-Serif\" font-size=\"14.00\">class = Not_Canceled</text>\n",
       "</g>\n",
       "<!-- 0&#45;&gt;818 -->\n",
       "<g id=\"edge16\" class=\"edge\">\n",
       "<title>0&#45;&gt;818</title>\n",
       "<path fill=\"none\" stroke=\"black\" d=\"M933.34,-430.05C956.92,-419.52 982.57,-408.07 1006.74,-397.27\"/>\n",
       "<polygon fill=\"black\" stroke=\"black\" points=\"1008.22,-400.45 1015.92,-393.17 1005.36,-394.06 1008.22,-400.45\"/>\n",
       "<text text-anchor=\"middle\" x=\"1006.99\" y=\"-412.82\" font-family=\"Helvetica,sans-Serif\" font-size=\"14.00\">False</text>\n",
       "</g>\n",
       "<!-- 2 -->\n",
       "<g id=\"node3\" class=\"node\">\n",
       "<title>2</title>\n",
       "<polygon fill=\"#9bcdf2\" stroke=\"black\" points=\"398,-274 120,-274 120,-191 398,-191 398,-274\"/>\n",
       "<text text-anchor=\"middle\" x=\"259\" y=\"-258.8\" font-family=\"Helvetica,sans-Serif\" font-size=\"14.00\">market_segment_type_Online &lt;= 0.5</text>\n",
       "<text text-anchor=\"middle\" x=\"259\" y=\"-243.8\" font-family=\"Helvetica,sans-Serif\" font-size=\"14.00\">gini = 0.442</text>\n",
       "<text text-anchor=\"middle\" x=\"259\" y=\"-228.8\" font-family=\"Helvetica,sans-Serif\" font-size=\"14.00\">samples = 11360</text>\n",
       "<text text-anchor=\"middle\" x=\"259\" y=\"-213.8\" font-family=\"Helvetica,sans-Serif\" font-size=\"14.00\">value = [3749, 7611]</text>\n",
       "<text text-anchor=\"middle\" x=\"259\" y=\"-198.8\" font-family=\"Helvetica,sans-Serif\" font-size=\"14.00\">class = Canceled</text>\n",
       "</g>\n",
       "<!-- 1&#45;&gt;2 -->\n",
       "<g id=\"edge2\" class=\"edge\">\n",
       "<title>1&#45;&gt;2</title>\n",
       "<path fill=\"none\" stroke=\"black\" d=\"M509.45,-313.56C473.39,-302.03 433.27,-289.21 395.9,-277.26\"/>\n",
       "<polygon fill=\"black\" stroke=\"black\" points=\"396.54,-273.79 385.95,-274.08 394.41,-280.46 396.54,-273.79\"/>\n",
       "</g>\n",
       "<!-- 541 -->\n",
       "<g id=\"node10\" class=\"node\">\n",
       "<title>541</title>\n",
       "<polygon fill=\"#54aae9\" stroke=\"black\" points=\"740.5,-274 509.5,-274 509.5,-191 740.5,-191 740.5,-274\"/>\n",
       "<text text-anchor=\"middle\" x=\"625\" y=\"-258.8\" font-family=\"Helvetica,sans-Serif\" font-size=\"14.00\">no_of_special_requests &lt;= 1.5</text>\n",
       "<text text-anchor=\"middle\" x=\"625\" y=\"-243.8\" font-family=\"Helvetica,sans-Serif\" font-size=\"14.00\">gini = 0.211</text>\n",
       "<text text-anchor=\"middle\" x=\"625\" y=\"-228.8\" font-family=\"Helvetica,sans-Serif\" font-size=\"14.00\">samples = 10473</text>\n",
       "<text text-anchor=\"middle\" x=\"625\" y=\"-213.8\" font-family=\"Helvetica,sans-Serif\" font-size=\"14.00\">value = [1256, 9217]</text>\n",
       "<text text-anchor=\"middle\" x=\"625\" y=\"-198.8\" font-family=\"Helvetica,sans-Serif\" font-size=\"14.00\">class = Canceled</text>\n",
       "</g>\n",
       "<!-- 1&#45;&gt;541 -->\n",
       "<g id=\"edge9\" class=\"edge\">\n",
       "<title>1&#45;&gt;541</title>\n",
       "<path fill=\"none\" stroke=\"black\" d=\"M625,-309.91C625,-301.65 625,-292.86 625,-284.3\"/>\n",
       "<polygon fill=\"black\" stroke=\"black\" points=\"628.5,-284.02 625,-274.02 621.5,-284.02 628.5,-284.02\"/>\n",
       "</g>\n",
       "<!-- 3 -->\n",
       "<g id=\"node4\" class=\"node\">\n",
       "<title>3</title>\n",
       "<polygon fill=\"#5aade9\" stroke=\"black\" points=\"158,-155 0,-155 0,-72 158,-72 158,-155\"/>\n",
       "<text text-anchor=\"middle\" x=\"79\" y=\"-139.8\" font-family=\"Helvetica,sans-Serif\" font-size=\"14.00\">lead_time &lt;= 92.5</text>\n",
       "<text text-anchor=\"middle\" x=\"79\" y=\"-124.8\" font-family=\"Helvetica,sans-Serif\" font-size=\"14.00\">gini = 0.245</text>\n",
       "<text text-anchor=\"middle\" x=\"79\" y=\"-109.8\" font-family=\"Helvetica,sans-Serif\" font-size=\"14.00\">samples = 5793</text>\n",
       "<text text-anchor=\"middle\" x=\"79\" y=\"-94.8\" font-family=\"Helvetica,sans-Serif\" font-size=\"14.00\">value = [830, 4963]</text>\n",
       "<text text-anchor=\"middle\" x=\"79\" y=\"-79.8\" font-family=\"Helvetica,sans-Serif\" font-size=\"14.00\">class = Canceled</text>\n",
       "</g>\n",
       "<!-- 2&#45;&gt;3 -->\n",
       "<g id=\"edge3\" class=\"edge\">\n",
       "<title>2&#45;&gt;3</title>\n",
       "<path fill=\"none\" stroke=\"black\" d=\"M196.55,-190.91C181.47,-181.11 165.25,-170.56 149.82,-160.53\"/>\n",
       "<polygon fill=\"black\" stroke=\"black\" points=\"151.63,-157.54 141.34,-155.02 147.82,-163.41 151.63,-157.54\"/>\n",
       "</g>\n",
       "<!-- 270 -->\n",
       "<g id=\"node7\" class=\"node\">\n",
       "<title>270</title>\n",
       "<polygon fill=\"#fdf3ed\" stroke=\"black\" points=\"342.5,-155 175.5,-155 175.5,-72 342.5,-72 342.5,-155\"/>\n",
       "<text text-anchor=\"middle\" x=\"259\" y=\"-139.8\" font-family=\"Helvetica,sans-Serif\" font-size=\"14.00\">lead_time &lt;= 13.5</text>\n",
       "<text text-anchor=\"middle\" x=\"259\" y=\"-124.8\" font-family=\"Helvetica,sans-Serif\" font-size=\"14.00\">gini = 0.499</text>\n",
       "<text text-anchor=\"middle\" x=\"259\" y=\"-109.8\" font-family=\"Helvetica,sans-Serif\" font-size=\"14.00\">samples = 5567</text>\n",
       "<text text-anchor=\"middle\" x=\"259\" y=\"-94.8\" font-family=\"Helvetica,sans-Serif\" font-size=\"14.00\">value = [2919, 2648]</text>\n",
       "<text text-anchor=\"middle\" x=\"259\" y=\"-79.8\" font-family=\"Helvetica,sans-Serif\" font-size=\"14.00\">class = Not_Canceled</text>\n",
       "</g>\n",
       "<!-- 2&#45;&gt;270 -->\n",
       "<g id=\"edge6\" class=\"edge\">\n",
       "<title>2&#45;&gt;270</title>\n",
       "<path fill=\"none\" stroke=\"black\" d=\"M259,-190.91C259,-182.65 259,-173.86 259,-165.3\"/>\n",
       "<polygon fill=\"black\" stroke=\"black\" points=\"262.5,-165.02 259,-155.02 255.5,-165.02 262.5,-165.02\"/>\n",
       "</g>\n",
       "<!-- 4 -->\n",
       "<g id=\"node5\" class=\"node\">\n",
       "<title>4</title>\n",
       "<polygon fill=\"#c0c0c0\" stroke=\"black\" points=\"70,-36 16,-36 16,0 70,0 70,-36\"/>\n",
       "<text text-anchor=\"middle\" x=\"43\" y=\"-14.3\" font-family=\"Helvetica,sans-Serif\" font-size=\"14.00\">(...)</text>\n",
       "</g>\n",
       "<!-- 3&#45;&gt;4 -->\n",
       "<g id=\"edge4\" class=\"edge\">\n",
       "<title>3&#45;&gt;4</title>\n",
       "<path fill=\"none\" stroke=\"black\" d=\"M63.31,-71.76C59.96,-63.04 56.49,-54.04 53.39,-45.99\"/>\n",
       "<polygon fill=\"black\" stroke=\"black\" points=\"56.56,-44.48 49.7,-36.41 50.03,-46.99 56.56,-44.48\"/>\n",
       "</g>\n",
       "<!-- 127 -->\n",
       "<g id=\"node6\" class=\"node\">\n",
       "<title>127</title>\n",
       "<polygon fill=\"#c0c0c0\" stroke=\"black\" points=\"142,-36 88,-36 88,0 142,0 142,-36\"/>\n",
       "<text text-anchor=\"middle\" x=\"115\" y=\"-14.3\" font-family=\"Helvetica,sans-Serif\" font-size=\"14.00\">(...)</text>\n",
       "</g>\n",
       "<!-- 3&#45;&gt;127 -->\n",
       "<g id=\"edge5\" class=\"edge\">\n",
       "<title>3&#45;&gt;127</title>\n",
       "<path fill=\"none\" stroke=\"black\" d=\"M94.69,-71.76C98.04,-63.04 101.51,-54.04 104.61,-45.99\"/>\n",
       "<polygon fill=\"black\" stroke=\"black\" points=\"107.97,-46.99 108.3,-36.41 101.44,-44.48 107.97,-46.99\"/>\n",
       "</g>\n",
       "<!-- 271 -->\n",
       "<g id=\"node8\" class=\"node\">\n",
       "<title>271</title>\n",
       "<polygon fill=\"#c0c0c0\" stroke=\"black\" points=\"250,-36 196,-36 196,0 250,0 250,-36\"/>\n",
       "<text text-anchor=\"middle\" x=\"223\" y=\"-14.3\" font-family=\"Helvetica,sans-Serif\" font-size=\"14.00\">(...)</text>\n",
       "</g>\n",
       "<!-- 270&#45;&gt;271 -->\n",
       "<g id=\"edge7\" class=\"edge\">\n",
       "<title>270&#45;&gt;271</title>\n",
       "<path fill=\"none\" stroke=\"black\" d=\"M243.31,-71.76C239.96,-63.04 236.49,-54.04 233.39,-45.99\"/>\n",
       "<polygon fill=\"black\" stroke=\"black\" points=\"236.56,-44.48 229.7,-36.41 230.03,-46.99 236.56,-44.48\"/>\n",
       "</g>\n",
       "<!-- 368 -->\n",
       "<g id=\"node9\" class=\"node\">\n",
       "<title>368</title>\n",
       "<polygon fill=\"#c0c0c0\" stroke=\"black\" points=\"322,-36 268,-36 268,0 322,0 322,-36\"/>\n",
       "<text text-anchor=\"middle\" x=\"295\" y=\"-14.3\" font-family=\"Helvetica,sans-Serif\" font-size=\"14.00\">(...)</text>\n",
       "</g>\n",
       "<!-- 270&#45;&gt;368 -->\n",
       "<g id=\"edge8\" class=\"edge\">\n",
       "<title>270&#45;&gt;368</title>\n",
       "<path fill=\"none\" stroke=\"black\" d=\"M274.69,-71.76C278.04,-63.04 281.51,-54.04 284.61,-45.99\"/>\n",
       "<polygon fill=\"black\" stroke=\"black\" points=\"287.97,-46.99 288.3,-36.41 281.44,-44.48 287.97,-46.99\"/>\n",
       "</g>\n",
       "<!-- 542 -->\n",
       "<g id=\"node11\" class=\"node\">\n",
       "<title>542</title>\n",
       "<polygon fill=\"#5dafea\" stroke=\"black\" points=\"639,-155 361,-155 361,-72 639,-72 639,-155\"/>\n",
       "<text text-anchor=\"middle\" x=\"500\" y=\"-139.8\" font-family=\"Helvetica,sans-Serif\" font-size=\"14.00\">market_segment_type_Online &lt;= 0.5</text>\n",
       "<text text-anchor=\"middle\" x=\"500\" y=\"-124.8\" font-family=\"Helvetica,sans-Serif\" font-size=\"14.00\">gini = 0.26</text>\n",
       "<text text-anchor=\"middle\" x=\"500\" y=\"-109.8\" font-family=\"Helvetica,sans-Serif\" font-size=\"14.00\">samples = 7175</text>\n",
       "<text text-anchor=\"middle\" x=\"500\" y=\"-94.8\" font-family=\"Helvetica,sans-Serif\" font-size=\"14.00\">value = [1102, 6073]</text>\n",
       "<text text-anchor=\"middle\" x=\"500\" y=\"-79.8\" font-family=\"Helvetica,sans-Serif\" font-size=\"14.00\">class = Canceled</text>\n",
       "</g>\n",
       "<!-- 541&#45;&gt;542 -->\n",
       "<g id=\"edge10\" class=\"edge\">\n",
       "<title>541&#45;&gt;542</title>\n",
       "<path fill=\"none\" stroke=\"black\" d=\"M581.63,-190.91C571.65,-181.56 560.94,-171.54 550.67,-161.93\"/>\n",
       "<polygon fill=\"black\" stroke=\"black\" points=\"552.98,-159.3 543.29,-155.02 548.2,-164.41 552.98,-159.3\"/>\n",
       "</g>\n",
       "<!-- 723 -->\n",
       "<g id=\"node14\" class=\"node\">\n",
       "<title>723</title>\n",
       "<polygon fill=\"#43a2e6\" stroke=\"black\" points=\"815,-155 657,-155 657,-72 815,-72 815,-155\"/>\n",
       "<text text-anchor=\"middle\" x=\"736\" y=\"-139.8\" font-family=\"Helvetica,sans-Serif\" font-size=\"14.00\">lead_time &lt;= 89.5</text>\n",
       "<text text-anchor=\"middle\" x=\"736\" y=\"-124.8\" font-family=\"Helvetica,sans-Serif\" font-size=\"14.00\">gini = 0.089</text>\n",
       "<text text-anchor=\"middle\" x=\"736\" y=\"-109.8\" font-family=\"Helvetica,sans-Serif\" font-size=\"14.00\">samples = 3298</text>\n",
       "<text text-anchor=\"middle\" x=\"736\" y=\"-94.8\" font-family=\"Helvetica,sans-Serif\" font-size=\"14.00\">value = [154, 3144]</text>\n",
       "<text text-anchor=\"middle\" x=\"736\" y=\"-79.8\" font-family=\"Helvetica,sans-Serif\" font-size=\"14.00\">class = Canceled</text>\n",
       "</g>\n",
       "<!-- 541&#45;&gt;723 -->\n",
       "<g id=\"edge13\" class=\"edge\">\n",
       "<title>541&#45;&gt;723</title>\n",
       "<path fill=\"none\" stroke=\"black\" d=\"M663.51,-190.91C672.21,-181.74 681.52,-171.93 690.47,-162.49\"/>\n",
       "<polygon fill=\"black\" stroke=\"black\" points=\"693.21,-164.68 697.56,-155.02 688.14,-159.87 693.21,-164.68\"/>\n",
       "</g>\n",
       "<!-- 543 -->\n",
       "<g id=\"node12\" class=\"node\">\n",
       "<title>543</title>\n",
       "<polygon fill=\"#c0c0c0\" stroke=\"black\" points=\"491,-36 437,-36 437,0 491,0 491,-36\"/>\n",
       "<text text-anchor=\"middle\" x=\"464\" y=\"-14.3\" font-family=\"Helvetica,sans-Serif\" font-size=\"14.00\">(...)</text>\n",
       "</g>\n",
       "<!-- 542&#45;&gt;543 -->\n",
       "<g id=\"edge11\" class=\"edge\">\n",
       "<title>542&#45;&gt;543</title>\n",
       "<path fill=\"none\" stroke=\"black\" d=\"M484.31,-71.76C480.96,-63.04 477.49,-54.04 474.39,-45.99\"/>\n",
       "<polygon fill=\"black\" stroke=\"black\" points=\"477.56,-44.48 470.7,-36.41 471.03,-46.99 477.56,-44.48\"/>\n",
       "</g>\n",
       "<!-- 584 -->\n",
       "<g id=\"node13\" class=\"node\">\n",
       "<title>584</title>\n",
       "<polygon fill=\"#c0c0c0\" stroke=\"black\" points=\"563,-36 509,-36 509,0 563,0 563,-36\"/>\n",
       "<text text-anchor=\"middle\" x=\"536\" y=\"-14.3\" font-family=\"Helvetica,sans-Serif\" font-size=\"14.00\">(...)</text>\n",
       "</g>\n",
       "<!-- 542&#45;&gt;584 -->\n",
       "<g id=\"edge12\" class=\"edge\">\n",
       "<title>542&#45;&gt;584</title>\n",
       "<path fill=\"none\" stroke=\"black\" d=\"M515.69,-71.76C519.04,-63.04 522.51,-54.04 525.61,-45.99\"/>\n",
       "<polygon fill=\"black\" stroke=\"black\" points=\"528.97,-46.99 529.3,-36.41 522.44,-44.48 528.97,-46.99\"/>\n",
       "</g>\n",
       "<!-- 724 -->\n",
       "<g id=\"node15\" class=\"node\">\n",
       "<title>724</title>\n",
       "<polygon fill=\"#c0c0c0\" stroke=\"black\" points=\"727,-36 673,-36 673,0 727,0 727,-36\"/>\n",
       "<text text-anchor=\"middle\" x=\"700\" y=\"-14.3\" font-family=\"Helvetica,sans-Serif\" font-size=\"14.00\">(...)</text>\n",
       "</g>\n",
       "<!-- 723&#45;&gt;724 -->\n",
       "<g id=\"edge14\" class=\"edge\">\n",
       "<title>723&#45;&gt;724</title>\n",
       "<path fill=\"none\" stroke=\"black\" d=\"M720.31,-71.76C716.96,-63.04 713.49,-54.04 710.39,-45.99\"/>\n",
       "<polygon fill=\"black\" stroke=\"black\" points=\"713.56,-44.48 706.7,-36.41 707.03,-46.99 713.56,-44.48\"/>\n",
       "</g>\n",
       "<!-- 753 -->\n",
       "<g id=\"node16\" class=\"node\">\n",
       "<title>753</title>\n",
       "<polygon fill=\"#c0c0c0\" stroke=\"black\" points=\"799,-36 745,-36 745,0 799,0 799,-36\"/>\n",
       "<text text-anchor=\"middle\" x=\"772\" y=\"-14.3\" font-family=\"Helvetica,sans-Serif\" font-size=\"14.00\">(...)</text>\n",
       "</g>\n",
       "<!-- 723&#45;&gt;753 -->\n",
       "<g id=\"edge15\" class=\"edge\">\n",
       "<title>723&#45;&gt;753</title>\n",
       "<path fill=\"none\" stroke=\"black\" d=\"M751.69,-71.76C755.04,-63.04 758.51,-54.04 761.61,-45.99\"/>\n",
       "<polygon fill=\"black\" stroke=\"black\" points=\"764.97,-46.99 765.3,-36.41 758.44,-44.48 764.97,-46.99\"/>\n",
       "</g>\n",
       "<!-- 819 -->\n",
       "<g id=\"node18\" class=\"node\">\n",
       "<title>819</title>\n",
       "<polygon fill=\"#fcf2ea\" stroke=\"black\" points=\"1222.5,-274 991.5,-274 991.5,-191 1222.5,-191 1222.5,-274\"/>\n",
       "<text text-anchor=\"middle\" x=\"1107\" y=\"-258.8\" font-family=\"Helvetica,sans-Serif\" font-size=\"14.00\">no_of_special_requests &lt;= 0.5</text>\n",
       "<text text-anchor=\"middle\" x=\"1107\" y=\"-243.8\" font-family=\"Helvetica,sans-Serif\" font-size=\"14.00\">gini = 0.499</text>\n",
       "<text text-anchor=\"middle\" x=\"1107\" y=\"-228.8\" font-family=\"Helvetica,sans-Serif\" font-size=\"14.00\">samples = 2983</text>\n",
       "<text text-anchor=\"middle\" x=\"1107\" y=\"-213.8\" font-family=\"Helvetica,sans-Serif\" font-size=\"14.00\">value = [1573, 1410]</text>\n",
       "<text text-anchor=\"middle\" x=\"1107\" y=\"-198.8\" font-family=\"Helvetica,sans-Serif\" font-size=\"14.00\">class = Not_Canceled</text>\n",
       "</g>\n",
       "<!-- 818&#45;&gt;819 -->\n",
       "<g id=\"edge17\" class=\"edge\">\n",
       "<title>818&#45;&gt;819</title>\n",
       "<path fill=\"none\" stroke=\"black\" d=\"M1107,-309.91C1107,-301.65 1107,-292.86 1107,-284.3\"/>\n",
       "<polygon fill=\"black\" stroke=\"black\" points=\"1110.5,-284.02 1107,-274.02 1103.5,-284.02 1110.5,-284.02\"/>\n",
       "</g>\n",
       "<!-- 1086 -->\n",
       "<g id=\"node25\" class=\"node\">\n",
       "<title>1086</title>\n",
       "<polygon fill=\"#e68742\" stroke=\"black\" points=\"1579,-274 1403,-274 1403,-191 1579,-191 1579,-274\"/>\n",
       "<text text-anchor=\"middle\" x=\"1491\" y=\"-258.8\" font-family=\"Helvetica,sans-Serif\" font-size=\"14.00\">arrival_month &lt;= 11.5</text>\n",
       "<text text-anchor=\"middle\" x=\"1491\" y=\"-243.8\" font-family=\"Helvetica,sans-Serif\" font-size=\"14.00\">gini = 0.087</text>\n",
       "<text text-anchor=\"middle\" x=\"1491\" y=\"-228.8\" font-family=\"Helvetica,sans-Serif\" font-size=\"14.00\">samples = 2390</text>\n",
       "<text text-anchor=\"middle\" x=\"1491\" y=\"-213.8\" font-family=\"Helvetica,sans-Serif\" font-size=\"14.00\">value = [2281, 109]</text>\n",
       "<text text-anchor=\"middle\" x=\"1491\" y=\"-198.8\" font-family=\"Helvetica,sans-Serif\" font-size=\"14.00\">class = Not_Canceled</text>\n",
       "</g>\n",
       "<!-- 818&#45;&gt;1086 -->\n",
       "<g id=\"edge24\" class=\"edge\">\n",
       "<title>818&#45;&gt;1086</title>\n",
       "<path fill=\"none\" stroke=\"black\" d=\"M1226.13,-314.2C1279.82,-297.84 1342.43,-278.77 1393.29,-263.27\"/>\n",
       "<polygon fill=\"black\" stroke=\"black\" points=\"1394.43,-266.58 1402.98,-260.32 1392.39,-259.89 1394.43,-266.58\"/>\n",
       "</g>\n",
       "<!-- 820 -->\n",
       "<g id=\"node19\" class=\"node\">\n",
       "<title>820</title>\n",
       "<polygon fill=\"#f4c9aa\" stroke=\"black\" points=\"1111,-155 833,-155 833,-72 1111,-72 1111,-155\"/>\n",
       "<text text-anchor=\"middle\" x=\"972\" y=\"-139.8\" font-family=\"Helvetica,sans-Serif\" font-size=\"14.00\">market_segment_type_Online &lt;= 0.5</text>\n",
       "<text text-anchor=\"middle\" x=\"972\" y=\"-124.8\" font-family=\"Helvetica,sans-Serif\" font-size=\"14.00\">gini = 0.463</text>\n",
       "<text text-anchor=\"middle\" x=\"972\" y=\"-109.8\" font-family=\"Helvetica,sans-Serif\" font-size=\"14.00\">samples = 2082</text>\n",
       "<text text-anchor=\"middle\" x=\"972\" y=\"-94.8\" font-family=\"Helvetica,sans-Serif\" font-size=\"14.00\">value = [1325, 757]</text>\n",
       "<text text-anchor=\"middle\" x=\"972\" y=\"-79.8\" font-family=\"Helvetica,sans-Serif\" font-size=\"14.00\">class = Not_Canceled</text>\n",
       "</g>\n",
       "<!-- 819&#45;&gt;820 -->\n",
       "<g id=\"edge18\" class=\"edge\">\n",
       "<title>819&#45;&gt;820</title>\n",
       "<path fill=\"none\" stroke=\"black\" d=\"M1060.16,-190.91C1049.27,-181.47 1037.59,-171.34 1026.4,-161.65\"/>\n",
       "<polygon fill=\"black\" stroke=\"black\" points=\"1028.6,-158.93 1018.75,-155.02 1024.02,-164.22 1028.6,-158.93\"/>\n",
       "</g>\n",
       "<!-- 967 -->\n",
       "<g id=\"node22\" class=\"node\">\n",
       "<title>967</title>\n",
       "<polygon fill=\"#84c2ef\" stroke=\"black\" points=\"1357,-155 1129,-155 1129,-72 1357,-72 1357,-155\"/>\n",
       "<text text-anchor=\"middle\" x=\"1243\" y=\"-139.8\" font-family=\"Helvetica,sans-Serif\" font-size=\"14.00\">no_of_weekend_nights &lt;= 0.5</text>\n",
       "<text text-anchor=\"middle\" x=\"1243\" y=\"-124.8\" font-family=\"Helvetica,sans-Serif\" font-size=\"14.00\">gini = 0.399</text>\n",
       "<text text-anchor=\"middle\" x=\"1243\" y=\"-109.8\" font-family=\"Helvetica,sans-Serif\" font-size=\"14.00\">samples = 901</text>\n",
       "<text text-anchor=\"middle\" x=\"1243\" y=\"-94.8\" font-family=\"Helvetica,sans-Serif\" font-size=\"14.00\">value = [248, 653]</text>\n",
       "<text text-anchor=\"middle\" x=\"1243\" y=\"-79.8\" font-family=\"Helvetica,sans-Serif\" font-size=\"14.00\">class = Canceled</text>\n",
       "</g>\n",
       "<!-- 819&#45;&gt;967 -->\n",
       "<g id=\"edge21\" class=\"edge\">\n",
       "<title>819&#45;&gt;967</title>\n",
       "<path fill=\"none\" stroke=\"black\" d=\"M1154.18,-190.91C1165.16,-181.47 1176.93,-171.34 1188.19,-161.65\"/>\n",
       "<polygon fill=\"black\" stroke=\"black\" points=\"1190.6,-164.2 1195.9,-155.02 1186.04,-158.89 1190.6,-164.2\"/>\n",
       "</g>\n",
       "<!-- 821 -->\n",
       "<g id=\"node20\" class=\"node\">\n",
       "<title>821</title>\n",
       "<polygon fill=\"#c0c0c0\" stroke=\"black\" points=\"963,-36 909,-36 909,0 963,0 963,-36\"/>\n",
       "<text text-anchor=\"middle\" x=\"936\" y=\"-14.3\" font-family=\"Helvetica,sans-Serif\" font-size=\"14.00\">(...)</text>\n",
       "</g>\n",
       "<!-- 820&#45;&gt;821 -->\n",
       "<g id=\"edge19\" class=\"edge\">\n",
       "<title>820&#45;&gt;821</title>\n",
       "<path fill=\"none\" stroke=\"black\" d=\"M956.31,-71.76C952.96,-63.04 949.49,-54.04 946.39,-45.99\"/>\n",
       "<polygon fill=\"black\" stroke=\"black\" points=\"949.56,-44.48 942.7,-36.41 943.03,-46.99 949.56,-44.48\"/>\n",
       "</g>\n",
       "<!-- 942 -->\n",
       "<g id=\"node21\" class=\"node\">\n",
       "<title>942</title>\n",
       "<polygon fill=\"#c0c0c0\" stroke=\"black\" points=\"1035,-36 981,-36 981,0 1035,0 1035,-36\"/>\n",
       "<text text-anchor=\"middle\" x=\"1008\" y=\"-14.3\" font-family=\"Helvetica,sans-Serif\" font-size=\"14.00\">(...)</text>\n",
       "</g>\n",
       "<!-- 820&#45;&gt;942 -->\n",
       "<g id=\"edge20\" class=\"edge\">\n",
       "<title>820&#45;&gt;942</title>\n",
       "<path fill=\"none\" stroke=\"black\" d=\"M987.69,-71.76C991.04,-63.04 994.51,-54.04 997.61,-45.99\"/>\n",
       "<polygon fill=\"black\" stroke=\"black\" points=\"1000.97,-46.99 1001.3,-36.41 994.44,-44.48 1000.97,-46.99\"/>\n",
       "</g>\n",
       "<!-- 968 -->\n",
       "<g id=\"node23\" class=\"node\">\n",
       "<title>968</title>\n",
       "<polygon fill=\"#c0c0c0\" stroke=\"black\" points=\"1234,-36 1180,-36 1180,0 1234,0 1234,-36\"/>\n",
       "<text text-anchor=\"middle\" x=\"1207\" y=\"-14.3\" font-family=\"Helvetica,sans-Serif\" font-size=\"14.00\">(...)</text>\n",
       "</g>\n",
       "<!-- 967&#45;&gt;968 -->\n",
       "<g id=\"edge22\" class=\"edge\">\n",
       "<title>967&#45;&gt;968</title>\n",
       "<path fill=\"none\" stroke=\"black\" d=\"M1227.31,-71.76C1223.96,-63.04 1220.49,-54.04 1217.39,-45.99\"/>\n",
       "<polygon fill=\"black\" stroke=\"black\" points=\"1220.56,-44.48 1213.7,-36.41 1214.03,-46.99 1220.56,-44.48\"/>\n",
       "</g>\n",
       "<!-- 1013 -->\n",
       "<g id=\"node24\" class=\"node\">\n",
       "<title>1013</title>\n",
       "<polygon fill=\"#c0c0c0\" stroke=\"black\" points=\"1306,-36 1252,-36 1252,0 1306,0 1306,-36\"/>\n",
       "<text text-anchor=\"middle\" x=\"1279\" y=\"-14.3\" font-family=\"Helvetica,sans-Serif\" font-size=\"14.00\">(...)</text>\n",
       "</g>\n",
       "<!-- 967&#45;&gt;1013 -->\n",
       "<g id=\"edge23\" class=\"edge\">\n",
       "<title>967&#45;&gt;1013</title>\n",
       "<path fill=\"none\" stroke=\"black\" d=\"M1258.69,-71.76C1262.04,-63.04 1265.51,-54.04 1268.61,-45.99\"/>\n",
       "<polygon fill=\"black\" stroke=\"black\" points=\"1271.97,-46.99 1272.3,-36.41 1265.44,-44.48 1271.97,-46.99\"/>\n",
       "</g>\n",
       "<!-- 1087 -->\n",
       "<g id=\"node26\" class=\"node\">\n",
       "<title>1087</title>\n",
       "<polygon fill=\"#e5833c\" stroke=\"black\" points=\"1606.5,-155 1375.5,-155 1375.5,-72 1606.5,-72 1606.5,-155\"/>\n",
       "<text text-anchor=\"middle\" x=\"1491\" y=\"-139.8\" font-family=\"Helvetica,sans-Serif\" font-size=\"14.00\">no_of_special_requests &lt;= 2.5</text>\n",
       "<text text-anchor=\"middle\" x=\"1491\" y=\"-124.8\" font-family=\"Helvetica,sans-Serif\" font-size=\"14.00\">gini = 0.032</text>\n",
       "<text text-anchor=\"middle\" x=\"1491\" y=\"-109.8\" font-family=\"Helvetica,sans-Serif\" font-size=\"14.00\">samples = 2303</text>\n",
       "<text text-anchor=\"middle\" x=\"1491\" y=\"-94.8\" font-family=\"Helvetica,sans-Serif\" font-size=\"14.00\">value = [2266, 37]</text>\n",
       "<text text-anchor=\"middle\" x=\"1491\" y=\"-79.8\" font-family=\"Helvetica,sans-Serif\" font-size=\"14.00\">class = Not_Canceled</text>\n",
       "</g>\n",
       "<!-- 1086&#45;&gt;1087 -->\n",
       "<g id=\"edge25\" class=\"edge\">\n",
       "<title>1086&#45;&gt;1087</title>\n",
       "<path fill=\"none\" stroke=\"black\" d=\"M1491,-190.91C1491,-182.65 1491,-173.86 1491,-165.3\"/>\n",
       "<polygon fill=\"black\" stroke=\"black\" points=\"1494.5,-165.02 1491,-155.02 1487.5,-165.02 1494.5,-165.02\"/>\n",
       "</g>\n",
       "<!-- 1090 -->\n",
       "<g id=\"node29\" class=\"node\">\n",
       "<title>1090</title>\n",
       "<polygon fill=\"#62b1ea\" stroke=\"black\" points=\"1855.5,-155 1624.5,-155 1624.5,-72 1855.5,-72 1855.5,-155\"/>\n",
       "<text text-anchor=\"middle\" x=\"1740\" y=\"-139.8\" font-family=\"Helvetica,sans-Serif\" font-size=\"14.00\">no_of_special_requests &lt;= 0.5</text>\n",
       "<text text-anchor=\"middle\" x=\"1740\" y=\"-124.8\" font-family=\"Helvetica,sans-Serif\" font-size=\"14.00\">gini = 0.285</text>\n",
       "<text text-anchor=\"middle\" x=\"1740\" y=\"-109.8\" font-family=\"Helvetica,sans-Serif\" font-size=\"14.00\">samples = 87</text>\n",
       "<text text-anchor=\"middle\" x=\"1740\" y=\"-94.8\" font-family=\"Helvetica,sans-Serif\" font-size=\"14.00\">value = [15, 72]</text>\n",
       "<text text-anchor=\"middle\" x=\"1740\" y=\"-79.8\" font-family=\"Helvetica,sans-Serif\" font-size=\"14.00\">class = Canceled</text>\n",
       "</g>\n",
       "<!-- 1086&#45;&gt;1090 -->\n",
       "<g id=\"edge28\" class=\"edge\">\n",
       "<title>1086&#45;&gt;1090</title>\n",
       "<path fill=\"none\" stroke=\"black\" d=\"M1577.39,-190.91C1599.12,-180.7 1622.56,-169.68 1644.7,-159.28\"/>\n",
       "<polygon fill=\"black\" stroke=\"black\" points=\"1646.2,-162.44 1653.76,-155.02 1643.22,-156.11 1646.2,-162.44\"/>\n",
       "</g>\n",
       "<!-- 1088 -->\n",
       "<g id=\"node27\" class=\"node\">\n",
       "<title>1088</title>\n",
       "<polygon fill=\"#c0c0c0\" stroke=\"black\" points=\"1482,-36 1428,-36 1428,0 1482,0 1482,-36\"/>\n",
       "<text text-anchor=\"middle\" x=\"1455\" y=\"-14.3\" font-family=\"Helvetica,sans-Serif\" font-size=\"14.00\">(...)</text>\n",
       "</g>\n",
       "<!-- 1087&#45;&gt;1088 -->\n",
       "<g id=\"edge26\" class=\"edge\">\n",
       "<title>1087&#45;&gt;1088</title>\n",
       "<path fill=\"none\" stroke=\"black\" d=\"M1475.31,-71.76C1471.96,-63.04 1468.49,-54.04 1465.39,-45.99\"/>\n",
       "<polygon fill=\"black\" stroke=\"black\" points=\"1468.56,-44.48 1461.7,-36.41 1462.03,-46.99 1468.56,-44.48\"/>\n",
       "</g>\n",
       "<!-- 1089 -->\n",
       "<g id=\"node28\" class=\"node\">\n",
       "<title>1089</title>\n",
       "<polygon fill=\"#c0c0c0\" stroke=\"black\" points=\"1554,-36 1500,-36 1500,0 1554,0 1554,-36\"/>\n",
       "<text text-anchor=\"middle\" x=\"1527\" y=\"-14.3\" font-family=\"Helvetica,sans-Serif\" font-size=\"14.00\">(...)</text>\n",
       "</g>\n",
       "<!-- 1087&#45;&gt;1089 -->\n",
       "<g id=\"edge27\" class=\"edge\">\n",
       "<title>1087&#45;&gt;1089</title>\n",
       "<path fill=\"none\" stroke=\"black\" d=\"M1506.69,-71.76C1510.04,-63.04 1513.51,-54.04 1516.61,-45.99\"/>\n",
       "<polygon fill=\"black\" stroke=\"black\" points=\"1519.97,-46.99 1520.3,-36.41 1513.44,-44.48 1519.97,-46.99\"/>\n",
       "</g>\n",
       "<!-- 1091 -->\n",
       "<g id=\"node30\" class=\"node\">\n",
       "<title>1091</title>\n",
       "<polygon fill=\"#c0c0c0\" stroke=\"black\" points=\"1731,-36 1677,-36 1677,0 1731,0 1731,-36\"/>\n",
       "<text text-anchor=\"middle\" x=\"1704\" y=\"-14.3\" font-family=\"Helvetica,sans-Serif\" font-size=\"14.00\">(...)</text>\n",
       "</g>\n",
       "<!-- 1090&#45;&gt;1091 -->\n",
       "<g id=\"edge29\" class=\"edge\">\n",
       "<title>1090&#45;&gt;1091</title>\n",
       "<path fill=\"none\" stroke=\"black\" d=\"M1724.31,-71.76C1720.96,-63.04 1717.49,-54.04 1714.39,-45.99\"/>\n",
       "<polygon fill=\"black\" stroke=\"black\" points=\"1717.56,-44.48 1710.7,-36.41 1711.03,-46.99 1717.56,-44.48\"/>\n",
       "</g>\n",
       "<!-- 1092 -->\n",
       "<g id=\"node31\" class=\"node\">\n",
       "<title>1092</title>\n",
       "<polygon fill=\"#c0c0c0\" stroke=\"black\" points=\"1803,-36 1749,-36 1749,0 1803,0 1803,-36\"/>\n",
       "<text text-anchor=\"middle\" x=\"1776\" y=\"-14.3\" font-family=\"Helvetica,sans-Serif\" font-size=\"14.00\">(...)</text>\n",
       "</g>\n",
       "<!-- 1090&#45;&gt;1092 -->\n",
       "<g id=\"edge30\" class=\"edge\">\n",
       "<title>1090&#45;&gt;1092</title>\n",
       "<path fill=\"none\" stroke=\"black\" d=\"M1755.69,-71.76C1759.04,-63.04 1762.51,-54.04 1765.61,-45.99\"/>\n",
       "<polygon fill=\"black\" stroke=\"black\" points=\"1768.97,-46.99 1769.3,-36.41 1762.44,-44.48 1768.97,-46.99\"/>\n",
       "</g>\n",
       "</g>\n",
       "</svg>\n"
      ],
      "text/plain": [
       "<graphviz.sources.Source at 0x7fff6ce4f100>"
      ]
     },
     "execution_count": 132,
     "metadata": {},
     "output_type": "execute_result"
    }
   ],
   "source": [
    "# Visualize the decision tree\n",
    "from sklearn.tree import export_graphviz\n",
    "import graphviz\n",
    "\n",
    "export_graphviz(clf, out_file='tree.dot', feature_names=X.columns, class_names=['Not_Canceled', 'Canceled'], filled=True, max_depth=3)\n",
    "\n",
    "with open('tree.dot') as f:\n",
    "    dot_graph = f.read()\n",
    "\n",
    "graphviz.Source(dot_graph)"
   ]
  },
  {
   "cell_type": "code",
   "execution_count": 499,
   "metadata": {},
   "outputs": [
    {
     "name": "stdout",
     "output_type": "stream",
     "text": [
      " confusion matrix: \n",
      " [[2380  646]\n",
      " [ 665 5378]]\n",
      "\n",
      "\n",
      " classification report: \n",
      "               precision    recall  f1-score   support\n",
      "\n",
      "           0       0.78      0.79      0.78      3026\n",
      "           1       0.89      0.89      0.89      6043\n",
      "\n",
      "    accuracy                           0.86      9069\n",
      "   macro avg       0.84      0.84      0.84      9069\n",
      "weighted avg       0.86      0.86      0.86      9069\n",
      "\n"
     ]
    }
   ],
   "source": [
    "from sklearn.model_selection import train_test_split\n",
    "from sklearn.tree import DecisionTreeClassifier\n",
    "from sklearn.metrics import confusion_matrix\n",
    "from sklearn.metrics import classification_report\n",
    "\n",
    "X_train, X_test, y_train, y_test = train_test_split(X, y, random_state=42)\n",
    "\n",
    "clf = DecisionTreeClassifier(random_state=42)\n",
    "clf.fit(X_train, y_train)\n",
    "\n",
    "y_pred = clf.predict(X_test)\n",
    "\n",
    "print(f' confusion matrix: \\n {confusion_matrix(y_test, y_pred)}\\n\\n')\n",
    "print(f' classification report: \\n {classification_report(y_test, y_pred)}')"
   ]
  },
  {
   "attachments": {},
   "cell_type": "markdown",
   "metadata": {},
   "source": [
    "Training a basic decision tree classifier results in a 86% accuracy. It is important to note no hyper parameters are configured during this and better results could likely be achived using better hyperparameters found with grid search. The weakest performing aspect of the model seems to be when prediciting canceled bookings which was to be expected given the slight imbalance of the target variable in our dataset. In the metrics, this comes through as the lower scores for the canceled (0) class.\n",
    "\n",
    "Going forward, we will configure the hyperparamters and deploy other models and compare their performances."
   ]
  },
  {
   "cell_type": "code",
   "execution_count": 133,
   "metadata": {},
   "outputs": [
    {
     "name": "stdout",
     "output_type": "stream",
     "text": [
      "Top 5 features based on gini impurity:\n",
      "lead_time 0.37990539271789986\n",
      "avg_price_per_room 0.15801710207277542\n",
      "market_segment_type_Online 0.1384499890420863\n",
      "no_of_special_requests 0.10054584872987432\n",
      "arrival_month 0.05606272572879223\n"
     ]
    }
   ],
   "source": [
    "# Feature importance based on gini impurity\n",
    "features_importances  = clf.feature_importances_\n",
    "\n",
    "features_importances_dict = {index: item for index, item in enumerate(features_importances)}\n",
    "sorted_features_importances = sorted(features_importances_dict.items(), key=lambda x: x[1], reverse=True)\n",
    "\n",
    "print(\"Top 5 features based on gini impurity:\")\n",
    "for i in range(5):\n",
    "    print(X.columns[sorted_features_importances[i][0]], sorted_features_importances[i][1])\n",
    "\n"
   ]
  }
 ],
 "metadata": {
  "kernelspec": {
   "display_name": "Python 3 (ipykernel)",
   "language": "python",
   "name": "python3"
  },
  "language_info": {
   "codemirror_mode": {
    "name": "ipython",
    "version": 3
   },
   "file_extension": ".py",
   "mimetype": "text/x-python",
   "name": "python",
   "nbconvert_exporter": "python",
   "pygments_lexer": "ipython3",
   "version": "3.12.2"
  }
 },
 "nbformat": 4,
 "nbformat_minor": 2
}
