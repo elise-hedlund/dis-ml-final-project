{
  "cells": [
    {
      "attachments": {},
      "cell_type": "markdown",
      "metadata": {},
      "source": [
        "### Hotel Reservations: \n",
        "\n",
        "Our dataset comes from Kaggle and can be found at the following link: https://www.kaggle.com/datasets/ahsan81/hotel-reservations-classification-dataset\n",
        "\n",
        "The dataset contains roughly 36,300 instances, each representing an individual hotel reservation. There are 19 features, which are the attributes of customers' hotel reservations. The features are as follows: Booking_ID, no_of_adults, no_of_children, no_of_weekend_nights, no_of_week_nights, type_of_meal_plan, required_car_parking_space, room_type_reserved, lead_time, arrival_year, arrival_month, arrival_date, market_segment_type, repeated_guest, no_of_previous_cancellations, no_of_previous_bookings_not_canceled. avg_price_per_room, no_of_special_requests, and booking_status. \n",
        "\n",
        "Our target variable is booking_status, which is defined in the dataset information as a \"flag indicating if the booking was canceled or not.\" We chose this feature as our target variable because the aim of our project is to determine the likelihood of a booking being canceled and which features are the best predictors of this cancellation. "
      ]
    },
    {
      "cell_type": "code",
      "execution_count": 2,
      "metadata": {},
      "outputs": [],
      "source": [
        "import pandas as pd\n",
        "\n",
        "hotel_data = pd.read_csv('./Hotel Reservations.csv')"
      ]
    },
    {
      "cell_type": "code",
      "execution_count": 3,
      "metadata": {},
      "outputs": [
        {
          "data": {
            "text/html": [
              "<div>\n",
              "<style scoped>\n",
              "    .dataframe tbody tr th:only-of-type {\n",
              "        vertical-align: middle;\n",
              "    }\n",
              "\n",
              "    .dataframe tbody tr th {\n",
              "        vertical-align: top;\n",
              "    }\n",
              "\n",
              "    .dataframe thead th {\n",
              "        text-align: right;\n",
              "    }\n",
              "</style>\n",
              "<table border=\"1\" class=\"dataframe\">\n",
              "  <thead>\n",
              "    <tr style=\"text-align: right;\">\n",
              "      <th></th>\n",
              "      <th>Booking_ID</th>\n",
              "      <th>no_of_adults</th>\n",
              "      <th>no_of_children</th>\n",
              "      <th>no_of_weekend_nights</th>\n",
              "      <th>no_of_week_nights</th>\n",
              "      <th>type_of_meal_plan</th>\n",
              "      <th>required_car_parking_space</th>\n",
              "      <th>room_type_reserved</th>\n",
              "      <th>lead_time</th>\n",
              "      <th>arrival_year</th>\n",
              "      <th>arrival_month</th>\n",
              "      <th>arrival_date</th>\n",
              "      <th>market_segment_type</th>\n",
              "      <th>repeated_guest</th>\n",
              "      <th>no_of_previous_cancellations</th>\n",
              "      <th>no_of_previous_bookings_not_canceled</th>\n",
              "      <th>avg_price_per_room</th>\n",
              "      <th>no_of_special_requests</th>\n",
              "      <th>booking_status</th>\n",
              "    </tr>\n",
              "  </thead>\n",
              "  <tbody>\n",
              "    <tr>\n",
              "      <th>0</th>\n",
              "      <td>INN00001</td>\n",
              "      <td>2</td>\n",
              "      <td>0</td>\n",
              "      <td>1</td>\n",
              "      <td>2</td>\n",
              "      <td>Meal Plan 1</td>\n",
              "      <td>0</td>\n",
              "      <td>Room_Type 1</td>\n",
              "      <td>224</td>\n",
              "      <td>2017</td>\n",
              "      <td>10</td>\n",
              "      <td>2</td>\n",
              "      <td>Offline</td>\n",
              "      <td>0</td>\n",
              "      <td>0</td>\n",
              "      <td>0</td>\n",
              "      <td>65.00</td>\n",
              "      <td>0</td>\n",
              "      <td>Not_Canceled</td>\n",
              "    </tr>\n",
              "    <tr>\n",
              "      <th>1</th>\n",
              "      <td>INN00002</td>\n",
              "      <td>2</td>\n",
              "      <td>0</td>\n",
              "      <td>2</td>\n",
              "      <td>3</td>\n",
              "      <td>Not Selected</td>\n",
              "      <td>0</td>\n",
              "      <td>Room_Type 1</td>\n",
              "      <td>5</td>\n",
              "      <td>2018</td>\n",
              "      <td>11</td>\n",
              "      <td>6</td>\n",
              "      <td>Online</td>\n",
              "      <td>0</td>\n",
              "      <td>0</td>\n",
              "      <td>0</td>\n",
              "      <td>106.68</td>\n",
              "      <td>1</td>\n",
              "      <td>Not_Canceled</td>\n",
              "    </tr>\n",
              "    <tr>\n",
              "      <th>2</th>\n",
              "      <td>INN00003</td>\n",
              "      <td>1</td>\n",
              "      <td>0</td>\n",
              "      <td>2</td>\n",
              "      <td>1</td>\n",
              "      <td>Meal Plan 1</td>\n",
              "      <td>0</td>\n",
              "      <td>Room_Type 1</td>\n",
              "      <td>1</td>\n",
              "      <td>2018</td>\n",
              "      <td>2</td>\n",
              "      <td>28</td>\n",
              "      <td>Online</td>\n",
              "      <td>0</td>\n",
              "      <td>0</td>\n",
              "      <td>0</td>\n",
              "      <td>60.00</td>\n",
              "      <td>0</td>\n",
              "      <td>Canceled</td>\n",
              "    </tr>\n",
              "    <tr>\n",
              "      <th>3</th>\n",
              "      <td>INN00004</td>\n",
              "      <td>2</td>\n",
              "      <td>0</td>\n",
              "      <td>0</td>\n",
              "      <td>2</td>\n",
              "      <td>Meal Plan 1</td>\n",
              "      <td>0</td>\n",
              "      <td>Room_Type 1</td>\n",
              "      <td>211</td>\n",
              "      <td>2018</td>\n",
              "      <td>5</td>\n",
              "      <td>20</td>\n",
              "      <td>Online</td>\n",
              "      <td>0</td>\n",
              "      <td>0</td>\n",
              "      <td>0</td>\n",
              "      <td>100.00</td>\n",
              "      <td>0</td>\n",
              "      <td>Canceled</td>\n",
              "    </tr>\n",
              "    <tr>\n",
              "      <th>4</th>\n",
              "      <td>INN00005</td>\n",
              "      <td>2</td>\n",
              "      <td>0</td>\n",
              "      <td>1</td>\n",
              "      <td>1</td>\n",
              "      <td>Not Selected</td>\n",
              "      <td>0</td>\n",
              "      <td>Room_Type 1</td>\n",
              "      <td>48</td>\n",
              "      <td>2018</td>\n",
              "      <td>4</td>\n",
              "      <td>11</td>\n",
              "      <td>Online</td>\n",
              "      <td>0</td>\n",
              "      <td>0</td>\n",
              "      <td>0</td>\n",
              "      <td>94.50</td>\n",
              "      <td>0</td>\n",
              "      <td>Canceled</td>\n",
              "    </tr>\n",
              "  </tbody>\n",
              "</table>\n",
              "</div>"
            ],
            "text/plain": [
              "  Booking_ID  no_of_adults  no_of_children  no_of_weekend_nights  \\\n",
              "0   INN00001             2               0                     1   \n",
              "1   INN00002             2               0                     2   \n",
              "2   INN00003             1               0                     2   \n",
              "3   INN00004             2               0                     0   \n",
              "4   INN00005             2               0                     1   \n",
              "\n",
              "   no_of_week_nights type_of_meal_plan  required_car_parking_space  \\\n",
              "0                  2       Meal Plan 1                           0   \n",
              "1                  3      Not Selected                           0   \n",
              "2                  1       Meal Plan 1                           0   \n",
              "3                  2       Meal Plan 1                           0   \n",
              "4                  1      Not Selected                           0   \n",
              "\n",
              "  room_type_reserved  lead_time  arrival_year  arrival_month  arrival_date  \\\n",
              "0        Room_Type 1        224          2017             10             2   \n",
              "1        Room_Type 1          5          2018             11             6   \n",
              "2        Room_Type 1          1          2018              2            28   \n",
              "3        Room_Type 1        211          2018              5            20   \n",
              "4        Room_Type 1         48          2018              4            11   \n",
              "\n",
              "  market_segment_type  repeated_guest  no_of_previous_cancellations  \\\n",
              "0             Offline               0                             0   \n",
              "1              Online               0                             0   \n",
              "2              Online               0                             0   \n",
              "3              Online               0                             0   \n",
              "4              Online               0                             0   \n",
              "\n",
              "   no_of_previous_bookings_not_canceled  avg_price_per_room  \\\n",
              "0                                     0               65.00   \n",
              "1                                     0              106.68   \n",
              "2                                     0               60.00   \n",
              "3                                     0              100.00   \n",
              "4                                     0               94.50   \n",
              "\n",
              "   no_of_special_requests booking_status  \n",
              "0                       0   Not_Canceled  \n",
              "1                       1   Not_Canceled  \n",
              "2                       0       Canceled  \n",
              "3                       0       Canceled  \n",
              "4                       0       Canceled  "
            ]
          },
          "execution_count": 3,
          "metadata": {},
          "output_type": "execute_result"
        }
      ],
      "source": [
        "hotel_data.head()"
      ]
    },
    {
      "cell_type": "code",
      "execution_count": 4,
      "metadata": {},
      "outputs": [
        {
          "name": "stdout",
          "output_type": "stream",
          "text": [
            "(36275, 19)\n"
          ]
        }
      ],
      "source": [
        "print(hotel_data.shape)"
      ]
    },
    {
      "cell_type": "code",
      "execution_count": 5,
      "metadata": {},
      "outputs": [
        {
          "name": "stdout",
          "output_type": "stream",
          "text": [
            "Booking_ID                              0\n",
            "no_of_adults                            0\n",
            "no_of_children                          0\n",
            "no_of_weekend_nights                    0\n",
            "no_of_week_nights                       0\n",
            "type_of_meal_plan                       0\n",
            "required_car_parking_space              0\n",
            "room_type_reserved                      0\n",
            "lead_time                               0\n",
            "arrival_year                            0\n",
            "arrival_month                           0\n",
            "arrival_date                            0\n",
            "market_segment_type                     0\n",
            "repeated_guest                          0\n",
            "no_of_previous_cancellations            0\n",
            "no_of_previous_bookings_not_canceled    0\n",
            "avg_price_per_room                      0\n",
            "no_of_special_requests                  0\n",
            "booking_status                          0\n",
            "dtype: int64\n"
          ]
        }
      ],
      "source": [
        "# find missing values\n",
        "print(hotel_data.isnull().sum())"
      ]
    },
    {
      "attachments": {},
      "cell_type": "markdown",
      "metadata": {},
      "source": [
        "There are no missing values."
      ]
    },
    {
      "cell_type": "code",
      "execution_count": 6,
      "metadata": {},
      "outputs": [
        {
          "name": "stdout",
          "output_type": "stream",
          "text": [
            "Booking_ID                               object\n",
            "no_of_adults                              int64\n",
            "no_of_children                            int64\n",
            "no_of_weekend_nights                      int64\n",
            "no_of_week_nights                         int64\n",
            "type_of_meal_plan                        object\n",
            "required_car_parking_space                int64\n",
            "room_type_reserved                       object\n",
            "lead_time                                 int64\n",
            "arrival_year                              int64\n",
            "arrival_month                             int64\n",
            "arrival_date                              int64\n",
            "market_segment_type                      object\n",
            "repeated_guest                            int64\n",
            "no_of_previous_cancellations              int64\n",
            "no_of_previous_bookings_not_canceled      int64\n",
            "avg_price_per_room                      float64\n",
            "no_of_special_requests                    int64\n",
            "booking_status                           object\n",
            "dtype: object\n"
          ]
        }
      ],
      "source": [
        "print(hotel_data.dtypes)"
      ]
    },
    {
      "attachments": {},
      "cell_type": "markdown",
      "metadata": {},
      "source": [
        "Some features, and even the target variable, are not numerical. We will need to make these values numerical in preprocessing."
      ]
    },
    {
      "attachments": {},
      "cell_type": "markdown",
      "metadata": {},
      "source": [
        "### Pre-processing"
      ]
    },
    {
      "cell_type": "code",
      "execution_count": 7,
      "metadata": {},
      "outputs": [],
      "source": [
        "# make Booking_ID an integer\n",
        "hotel_data['Booking_ID'] = hotel_data['Booking_ID'].apply(lambda x: int(x[3:]))"
      ]
    },
    {
      "cell_type": "code",
      "execution_count": 8,
      "metadata": {},
      "outputs": [],
      "source": [
        "# Use one-hot encoding to convert categorical data into numerical\n",
        "# data. This introduces new features into the dataset.\n",
        "hotel_data = pd.get_dummies(hotel_data, columns=['type_of_meal_plan', 'room_type_reserved', 'market_segment_type'])"
      ]
    },
    {
      "cell_type": "code",
      "execution_count": 9,
      "metadata": {},
      "outputs": [
        {
          "name": "stdout",
          "output_type": "stream",
          "text": [
            "Index(['Booking_ID', 'no_of_adults', 'no_of_children', 'no_of_weekend_nights',\n",
            "       'no_of_week_nights', 'required_car_parking_space', 'lead_time',\n",
            "       'arrival_year', 'arrival_month', 'arrival_date', 'repeated_guest',\n",
            "       'no_of_previous_cancellations', 'no_of_previous_bookings_not_canceled',\n",
            "       'avg_price_per_room', 'no_of_special_requests', 'booking_status',\n",
            "       'type_of_meal_plan_Meal Plan 1', 'type_of_meal_plan_Meal Plan 2',\n",
            "       'type_of_meal_plan_Meal Plan 3', 'type_of_meal_plan_Not Selected',\n",
            "       'room_type_reserved_Room_Type 1', 'room_type_reserved_Room_Type 2',\n",
            "       'room_type_reserved_Room_Type 3', 'room_type_reserved_Room_Type 4',\n",
            "       'room_type_reserved_Room_Type 5', 'room_type_reserved_Room_Type 6',\n",
            "       'room_type_reserved_Room_Type 7', 'market_segment_type_Aviation',\n",
            "       'market_segment_type_Complementary', 'market_segment_type_Corporate',\n",
            "       'market_segment_type_Offline', 'market_segment_type_Online'],\n",
            "      dtype='object')\n"
          ]
        }
      ],
      "source": [
        "print(hotel_data.columns)"
      ]
    },
    {
      "cell_type": "code",
      "execution_count": 10,
      "metadata": {},
      "outputs": [
        {
          "name": "stdout",
          "output_type": "stream",
          "text": [
            "Booking_ID                                int64\n",
            "no_of_adults                              int64\n",
            "no_of_children                            int64\n",
            "no_of_weekend_nights                      int64\n",
            "no_of_week_nights                         int64\n",
            "required_car_parking_space                int64\n",
            "lead_time                                 int64\n",
            "arrival_year                              int64\n",
            "arrival_month                             int64\n",
            "arrival_date                              int64\n",
            "repeated_guest                            int64\n",
            "no_of_previous_cancellations              int64\n",
            "no_of_previous_bookings_not_canceled      int64\n",
            "avg_price_per_room                      float64\n",
            "no_of_special_requests                    int64\n",
            "booking_status                            int64\n",
            "type_of_meal_plan_Meal Plan 1              bool\n",
            "type_of_meal_plan_Meal Plan 2              bool\n",
            "type_of_meal_plan_Meal Plan 3              bool\n",
            "type_of_meal_plan_Not Selected             bool\n",
            "room_type_reserved_Room_Type 1             bool\n",
            "room_type_reserved_Room_Type 2             bool\n",
            "room_type_reserved_Room_Type 3             bool\n",
            "room_type_reserved_Room_Type 4             bool\n",
            "room_type_reserved_Room_Type 5             bool\n",
            "room_type_reserved_Room_Type 6             bool\n",
            "room_type_reserved_Room_Type 7             bool\n",
            "market_segment_type_Aviation               bool\n",
            "market_segment_type_Complementary          bool\n",
            "market_segment_type_Corporate              bool\n",
            "market_segment_type_Offline                bool\n",
            "market_segment_type_Online                 bool\n",
            "dtype: object\n"
          ]
        }
      ],
      "source": [
        "# Transform the booking_status by mapping to a binary encoding.\n",
        "hotel_data['booking_status'] = hotel_data['booking_status'].map({'Canceled': 0, 'Not_Canceled': 1})\n",
        "\n",
        "print(hotel_data.dtypes)\n"
      ]
    },
    {
      "attachments": {},
      "cell_type": "markdown",
      "metadata": {},
      "source": [
        "All fields are now numerical."
      ]
    },
    {
      "attachments": {},
      "cell_type": "markdown",
      "metadata": {},
      "source": [
        "### Correlation Analysis"
      ]
    },
    {
      "cell_type": "code",
      "execution_count": 11,
      "metadata": {},
      "outputs": [
        {
          "data": {
            "image/png": "[encoded data removed]",
            "text/plain": [
              "<Figure size 640x480 with 1 Axes>"
            ]
          },
          "metadata": {},
          "output_type": "display_data"
        }
      ],
      "source": [
        "import matplotlib.pyplot as plt\n",
        "\n",
        "hotel_data['booking_status'].value_counts().plot(kind='bar')\n",
        "\n",
        "plt.show()"
      ]
    },
    {
      "attachments": {},
      "cell_type": "markdown",
      "metadata": {},
      "source": [
        "32.8% of all reservations are cancelled. Although not perfectly balanced with respect to the target variable, this skew is not too servere. Given a more severe skew or should we believe this an issue going forward, we could consider employing techniques such as under/over sampling to address the imbalance."
      ]
    },
    {
      "cell_type": "code",
      "execution_count": 12,
      "metadata": {},
      "outputs": [
        {
          "name": "stdout",
          "output_type": "stream",
          "text": [
            "booking_status                          1.000000\n",
            "no_of_special_requests                  0.253070\n",
            "market_segment_type_Corporate           0.112993\n",
            "repeated_guest                          0.107287\n",
            "required_car_parking_space              0.086185\n",
            "market_segment_type_Complementary       0.072867\n",
            "type_of_meal_plan_Meal Plan 1           0.061267\n",
            "no_of_previous_bookings_not_canceled    0.060179\n",
            "market_segment_type_Offline             0.038351\n",
            "no_of_previous_cancellations            0.033728\n",
            "room_type_reserved_Room_Type 1          0.020326\n",
            "room_type_reserved_Room_Type 7          0.014062\n",
            "arrival_month                           0.011233\n",
            "room_type_reserved_Room_Type 5          0.010224\n",
            "market_segment_type_Aviation            0.003964\n",
            "type_of_meal_plan_Meal Plan 3           0.003193\n",
            "room_type_reserved_Room_Type 3          0.001241\n",
            "room_type_reserved_Room_Type 2         -0.000548\n",
            "type_of_meal_plan_Not Selected         -0.003072\n",
            "Booking_ID                             -0.006237\n",
            "arrival_date                           -0.010629\n",
            "room_type_reserved_Room_Type 4         -0.013309\n",
            "room_type_reserved_Room_Type 6         -0.032652\n",
            "no_of_children                         -0.033078\n",
            "no_of_weekend_nights                   -0.061563\n",
            "type_of_meal_plan_Meal Plan 2          -0.086370\n",
            "no_of_adults                           -0.086920\n",
            "no_of_week_nights                      -0.092996\n",
            "market_segment_type_Online             -0.106362\n",
            "avg_price_per_room                     -0.142569\n",
            "arrival_year                           -0.179529\n",
            "lead_time                              -0.438538\n",
            "Name: booking_status, dtype: float64\n"
          ]
        }
      ],
      "source": [
        "corr = hotel_data.corr()\n",
        "print(corr['booking_status'].sort_values(ascending=False))"
      ]
    },
    {
      "attachments": {},
      "cell_type": "markdown",
      "metadata": {},
      "source": [
        "Features such as Booking_ID and arrival_date have little to no correlation with our target variable. Features such as lead_time and no_of_special_requests have stronger correlations to our target variable. For lead_time, there is a negative correlation between this feature and the binary target varible. Keeping in mind that 1 signifies a non-canceled booking, as lead_time increases, the booking is more likely to be canceled.\n",
        "\n",
        "Another set of features worth examining are the 5 varieties market_segement_types. Some market types such as coperate, complimentary, offline, and aviation have positive correlations to the target variable, while segement type online has a negative correlation. This suggests various relationships between the type of reservation and whether the reservation was canceled or not. One such relationship is that online bookings are more likely to be canceled than in-person bookings."
      ]
    },
    {
      "cell_type": "code",
      "execution_count": 13,
      "metadata": {},
      "outputs": [],
      "source": [
        "import matplotlib.pyplot as plt"
      ]
    },
    {
      "cell_type": "code",
      "execution_count": 14,
      "metadata": {},
      "outputs": [
        {
          "data": {
            "image/png": "[encoded data removed]",
            "text/plain": [
              "<Figure size 640x480 with 1 Axes>"
            ]
          },
          "metadata": {},
          "output_type": "display_data"
        }
      ],
      "source": [
        "large_lead_time_data = hotel_data[hotel_data['lead_time'] > 300]\n",
        "\n",
        "plt.scatter(large_lead_time_data['lead_time'], large_lead_time_data['booking_status'])\n",
        "plt.xlabel('lead_time')\n",
        "plt.ylabel('booking_status')\n",
        "plt.title('lead_time vs booking_status for lead_time > 300 days')\n",
        "plt.show()\n"
      ]
    },
    {
      "attachments": {},
      "cell_type": "markdown",
      "metadata": {},
      "source": [
        "Taking a closer look at lead time, we can start to visualize the negative correlation between lead_time and booking_status. Reservations done further in advance are more likely to be cancelled."
      ]
    },
    {
      "attachments": {},
      "cell_type": "markdown",
      "metadata": {},
      "source": [
        "### Short Analysis of arrival_month and arrival_date"
      ]
    },
    {
      "attachments": {},
      "cell_type": "markdown",
      "metadata": {},
      "source": [
        "We were not sure whether or not there was any significance to the arrival_month or arrival_date so we would know if we should do a cyclical encoding or not."
      ]
    },
    {
      "cell_type": "code",
      "execution_count": 15,
      "metadata": {},
      "outputs": [
        {
          "data": {
            "image/png": "[encoded data removed]",
            "text/plain": [
              "<Figure size 640x480 with 1 Axes>"
            ]
          },
          "metadata": {},
          "output_type": "display_data"
        },
        {
          "data": {
            "image/png": "[encoded data removed]",
            "text/plain": [
              "<Figure size 640x480 with 1 Axes>"
            ]
          },
          "metadata": {},
          "output_type": "display_data"
        },
        {
          "data": {
            "image/png": "[encoded data removed]",
            "text/plain": [
              "<Figure size 640x480 with 1 Axes>"
            ]
          },
          "metadata": {},
          "output_type": "display_data"
        },
        {
          "data": {
            "image/png": "[encoded data removed]",
            "text/plain": [
              "<Figure size 640x480 with 1 Axes>"
            ]
          },
          "metadata": {},
          "output_type": "display_data"
        }
      ],
      "source": [
        "hotel_data_cancelled = hotel_data[hotel_data['booking_status'] == 0]\n",
        "hotel_data_not_cancelled = hotel_data[hotel_data['booking_status'] == 1]\n",
        "\n",
        "hotel_data_cancelled['arrival_month'].value_counts().sort_index().plot(kind='bar')\n",
        "plt.show()\n",
        "hotel_data_not_cancelled['arrival_month'].value_counts().sort_index().plot(kind='bar')\n",
        "plt.show()\n",
        "hotel_data_cancelled['arrival_date'].value_counts().sort_index().plot(kind='bar')\n",
        "plt.show()\n",
        "hotel_data_not_cancelled['arrival_date'].value_counts().sort_index().plot(kind='bar')\n",
        "plt.show()"
      ]
    },
    {
      "attachments": {},
      "cell_type": "markdown",
      "metadata": {},
      "source": [
        "From looking at these graphs and comparing the number of bookings kept per month and the number of bookings cancelled per month, it looks like the only two months that might have any significance would be January and December. However, all of the other months look like there is no significance, so it does not make sense to use or make cyclical. Looking at the number of bookings for arrival date kept vs number of bookings canceled for arrival date, it does not look like there is any significance between days of the month, so it is unnecessary and not helpful to the model to keep these variables."
      ]
    },
    {
      "cell_type": "code",
      "execution_count": 16,
      "metadata": {},
      "outputs": [],
      "source": [
        "hotel_data.drop(['arrival_month', 'arrival_date', 'Booking_ID', 'arrival_year'], axis=1, inplace=True)"
      ]
    },
    {
      "attachments": {},
      "cell_type": "markdown",
      "metadata": {},
      "source": [
        "### PCA Dimensionality Reduction "
      ]
    },
    {
      "attachments": {},
      "cell_type": "markdown",
      "metadata": {},
      "source": [
        "Since the hotel reservations dataset contains a large number of features, we continue by using PCA (principal component analysis) for dimensionality reduction. For our initial implementation, we start by reducing to 2 dimensions to get an initial sense for the data (and because a dimensionality of 2 is appropriate for data visualization). "
      ]
    },
    {
      "cell_type": "code",
      "execution_count": 17,
      "metadata": {},
      "outputs": [
        {
          "name": "stdout",
          "output_type": "stream",
          "text": [
            "[[139.88061933 -34.15987709]\n",
            " [-80.2923924    0.80086204]\n",
            " [-82.86485553 -45.98627595]\n",
            " ...\n",
            " [ 62.90002595  -3.0954772 ]\n",
            " [-21.94692664  -9.59995597]\n",
            " [119.92749361  61.93664024]]\n"
          ]
        }
      ],
      "source": [
        "# initial implementation (2 dimensions)\n",
        "from sklearn.decomposition import PCA\n",
        "\n",
        "# create feature set X and target variable y\n",
        "X = hotel_data.drop('booking_status', axis=1)\n",
        "y = hotel_data['booking_status']\n",
        "\n",
        "pca = PCA(n_components=2)\n",
        "hotal2D = pca.fit_transform(X)\n",
        "\n",
        "print(hotal2D)"
      ]
    },
    {
      "cell_type": "code",
      "execution_count": 18,
      "metadata": {},
      "outputs": [
        {
          "name": "stdout",
          "output_type": "stream",
          "text": [
            "[0.85694104 0.14212837]\n"
          ]
        }
      ],
      "source": [
        "print(pca.explained_variance_ratio_)"
      ]
    },
    {
      "attachments": {},
      "cell_type": "markdown",
      "metadata": {},
      "source": [
        "The explained variance ratio indicates the proportion of a dataset's variance explained by each principal component. The results show that the first principal component in the hotel reservations dataset accounts for the majority of the variance (86%) and the second accounts for 14%.\n",
        "\n",
        "Next, we implement PCA with the optimal number of dimensions. In this case, we reduce down to the number of dimensions accounting for 95% of the variance."
      ]
    },
    {
      "cell_type": "code",
      "execution_count": 19,
      "metadata": {},
      "outputs": [
        {
          "name": "stdout",
          "output_type": "stream",
          "text": [
            "2\n"
          ]
        }
      ],
      "source": [
        "# implementation with optimal number of dimensions \n",
        "import numpy as np\n",
        "\n",
        "pca = PCA()\n",
        "pca.fit(X)\n",
        "cumsum = np.cumsum(pca.explained_variance_ratio_)\n",
        "d = np.argmax(cumsum >= 0.95) + 1\n",
        "\n",
        "pca = PCA(n_components=0.95)\n",
        "X_reduced = pca.fit_transform(X)\n",
        "\n",
        "print(pca.n_components_)"
      ]
    },
    {
      "attachments": {},
      "cell_type": "markdown",
      "metadata": {},
      "source": [
        "\n",
        "The optimal number of dimensions for this dataset is merely two. This is expected based on the explained variance ratio, and it indicates that the vast majority of the variance in the hotel reservations dataset can be explained by two principal components. Next, it is useful to know what these principal components are, so we will examine the feature contributions for each of the first two."
      ]
    },
    {
      "cell_type": "code",
      "execution_count": 20,
      "metadata": {},
      "outputs": [
        {
          "name": "stdout",
          "output_type": "stream",
          "text": [
            "                                      Principal Component 1\n",
            "lead_time                                          0.999523\n",
            "avg_price_per_room                                 0.030632\n",
            "no_of_week_nights                                  0.002450\n",
            "no_of_previous_bookings_not_canceled               0.001565\n",
            "market_segment_type_Offline                        0.001492\n",
            "no_of_special_requests                             0.000950\n",
            "market_segment_type_Online                         0.000880\n",
            "type_of_meal_plan_Meal Plan 2                      0.000764\n",
            "no_of_adults                                       0.000564\n",
            "type_of_meal_plan_Not Selected                     0.000495\n",
            "room_type_reserved_Room_Type 1                     0.000487\n",
            "market_segment_type_Corporate                      0.000472\n",
            "no_of_weekend_nights                               0.000472\n",
            "room_type_reserved_Room_Type 4                     0.000377\n",
            "type_of_meal_plan_Meal Plan 1                      0.000267\n",
            "repeated_guest                                     0.000246\n",
            "no_of_children                                     0.000240\n",
            "no_of_previous_cancellations                       0.000192\n",
            "required_car_parking_space                         0.000135\n",
            "market_segment_type_Complementary                  0.000102\n",
            "room_type_reserved_Room_Type 6                     0.000096\n",
            "room_type_reserved_Room_Type 2                     0.000042\n",
            "market_segment_type_Aviation                       0.000037\n",
            "room_type_reserved_Room_Type 7                     0.000029\n",
            "room_type_reserved_Room_Type 5                     0.000026\n",
            "type_of_meal_plan_Meal Plan 3                      0.000001\n",
            "room_type_reserved_Room_Type 3                     0.000000\n"
          ]
        }
      ],
      "source": [
        "pd.set_option('display.float_format', '{:.6f}'.format)\n",
        "feature_names = list(X.columns)\n",
        "\n",
        "df_pca_components = pd.DataFrame(pca.components_, columns=feature_names)\n",
        "df_pca_components = df_pca_components.transpose()\n",
        "df_pca_components.columns = [f'Principal Component {i+1}' for i in range(len(df_pca_components.columns))]\n",
        "\n",
        "df_sorted_1 = df_pca_components.abs().sort_values(by='Principal Component 1', ascending=False)\n",
        "df_sorted_1 = df_sorted_1[['Principal Component 1']]\n",
        "print(df_sorted_1)"
      ]
    },
    {
      "cell_type": "code",
      "execution_count": 21,
      "metadata": {},
      "outputs": [
        {
          "name": "stdout",
          "output_type": "stream",
          "text": [
            "                                      Principal Component 2\n",
            "avg_price_per_room                                 0.999454\n",
            "lead_time                                          0.030629\n",
            "no_of_previous_bookings_not_canceled               0.006017\n",
            "room_type_reserved_Room_Type 1                     0.004662\n",
            "no_of_adults                                       0.004517\n",
            "market_segment_type_Online                         0.004454\n",
            "no_of_special_requests                             0.003980\n",
            "no_of_children                                     0.003851\n",
            "room_type_reserved_Room_Type 4                     0.002912\n",
            "market_segment_type_Offline                        0.002519\n",
            "room_type_reserved_Room_Type 6                     0.001695\n",
            "no_of_week_nights                                  0.001376\n",
            "type_of_meal_plan_Not Selected                     0.001074\n",
            "type_of_meal_plan_Meal Plan 2                      0.001025\n",
            "market_segment_type_Corporate                      0.001019\n",
            "market_segment_type_Complementary                  0.000901\n",
            "repeated_guest                                     0.000838\n",
            "no_of_previous_cancellations                       0.000705\n",
            "required_car_parking_space                         0.000279\n",
            "room_type_reserved_Room_Type 2                     0.000235\n",
            "room_type_reserved_Room_Type 7                     0.000179\n",
            "room_type_reserved_Room_Type 5                     0.000116\n",
            "type_of_meal_plan_Meal Plan 1                      0.000057\n",
            "no_of_weekend_nights                               0.000024\n",
            "market_segment_type_Aviation                       0.000015\n",
            "type_of_meal_plan_Meal Plan 3                      0.000007\n",
            "room_type_reserved_Room_Type 3                     0.000005\n"
          ]
        }
      ],
      "source": [
        "df_sorted_2 = df_pca_components.abs().sort_values(by='Principal Component 2', ascending=False)\n",
        "df_sorted_2 = df_sorted_2[['Principal Component 2']]\n",
        "print(df_sorted_2)"
      ]
    },
    {
      "attachments": {},
      "cell_type": "markdown",
      "metadata": {},
      "source": [
        "These results demonstrate that the first principal feature is taking into account primarily lead time, then average price per room, and the second principal feature is taking into account the same features but in the opposite order. This provides insight into which features are most influential in our model (which features are higher predictors of hotel reservation cancellation). "
      ]
    },
    {
      "attachments": {},
      "cell_type": "markdown",
      "metadata": {},
      "source": [
        "### Logistic Regression"
      ]
    },
    {
      "cell_type": "code",
      "execution_count": 22,
      "metadata": {},
      "outputs": [
        {
          "name": "stdout",
          "output_type": "stream",
          "text": [
            "Coefficients:\n",
            "   no_of_adults  no_of_children  no_of_weekend_nights  no_of_week_nights  \\\n",
            "0     -0.056655       -0.058945             -0.112772          -0.040900   \n",
            "\n",
            "   required_car_parking_space  lead_time  repeated_guest  \\\n",
            "0                    0.294204  -1.342199        0.359225   \n",
            "\n",
            "   no_of_previous_cancellations  no_of_previous_bookings_not_canceled  \\\n",
            "0                     -0.097223                              0.107359   \n",
            "\n",
            "   avg_price_per_room  ...  room_type_reserved_Room_Type 3  \\\n",
            "0           -0.658484  ...                       -0.015918   \n",
            "\n",
            "   room_type_reserved_Room_Type 4  room_type_reserved_Room_Type 5  \\\n",
            "0                        0.009617                        0.036202   \n",
            "\n",
            "   room_type_reserved_Room_Type 6  room_type_reserved_Room_Type 7  \\\n",
            "0                        0.126796                        0.075470   \n",
            "\n",
            "   market_segment_type_Aviation  market_segment_type_Complementary  \\\n",
            "0                     -0.060904                           0.549439   \n",
            "\n",
            "   market_segment_type_Corporate  market_segment_type_Offline  \\\n",
            "0                      -0.024053                     0.391489   \n",
            "\n",
            "   market_segment_type_Online  \n",
            "0                   -0.469726  \n",
            "\n",
            "[1 rows x 27 columns]\n"
          ]
        }
      ],
      "source": [
        "from sklearn.linear_model import LogisticRegression\n",
        "from sklearn.model_selection import train_test_split\n",
        "from sklearn.preprocessing import StandardScaler\n",
        "from sklearn.metrics import mean_squared_error, r2_score, mean_absolute_error\n",
        "\n",
        "X_train, X_test, y_train, y_test = train_test_split(X, y, random_state=42)\n",
        "\n",
        "scaler = StandardScaler()\n",
        "X_train_scaled = scaler.fit_transform(X_train)\n",
        "X_test_scaled = scaler.transform(X_test)\n",
        "\n",
        "\n",
        "log_reg = LogisticRegression(random_state=42)\n",
        "log_reg.fit(X_train_scaled, y_train)\n",
        "\n",
        "log_reg_coefficients = log_reg.coef_\n",
        "coefficients_df = pd.DataFrame(log_reg_coefficients, columns=X.columns)\n",
        "print(\"Coefficients:\")\n",
        "print(coefficients_df)"
      ]
    },
    {
      "attachments": {},
      "cell_type": "markdown",
      "metadata": {},
      "source": [
        "Testing accuracy, Precision and recall"
      ]
    },
    {
      "cell_type": "code",
      "execution_count": 23,
      "metadata": {},
      "outputs": [
        {
          "name": "stdout",
          "output_type": "stream",
          "text": [
            "Accuracy: 0.8041680449884221\n",
            "Precision: 0.8215523737754333\n",
            "Recall: 0.9020354128744001\n",
            "MSE: 0.1958319550115779\n",
            "R2: 0.11919282157098632\n",
            "MAE: 0.1958319550115779\n"
          ]
        }
      ],
      "source": [
        "from sklearn.metrics import accuracy_score, precision_score, recall_score\n",
        "from sklearn.metrics import mean_squared_error\n",
        "from sklearn.metrics import r2_score\n",
        "from sklearn.metrics import mean_absolute_error\n",
        "y_pred = log_reg.predict(X_test_scaled)\n",
        "accuracy = accuracy_score(y_test, y_pred)\n",
        "precision = precision_score(y_test, y_pred)\n",
        "recall = recall_score(y_test, y_pred)\n",
        "\n",
        "print(\"Accuracy:\", accuracy)\n",
        "print(\"Precision:\", precision)\n",
        "print(\"Recall:\", recall)\n",
        "\n",
        "MSE = mean_squared_error(y_test, y_pred)\n",
        "R2 = r2_score(y_test, y_pred)\n",
        "MAE = mean_absolute_error(y_test, y_pred)\n",
        "\n",
        "print(\"MSE:\", MSE)\n",
        "print(\"R2:\", R2)\n",
        "print(\"MAE:\", MAE)"
      ]
    },
    {
      "attachments": {},
      "cell_type": "markdown",
      "metadata": {},
      "source": [
        "### Linear and Nonlinear SVM Classification"
      ]
    },
    {
      "attachments": {},
      "cell_type": "markdown",
      "metadata": {},
      "source": [
        "We begin our classification by utilizing SVMs (support vector machines) to perform linear classification. We will use soft margin classification to account for outliers and add flexibility in our model. We use LinearSVC from Scikit-Learn to accomplish this,"
      ]
    },
    {
      "cell_type": "code",
      "execution_count": 24,
      "metadata": {},
      "outputs": [
        {
          "name": "stderr",
          "output_type": "stream",
          "text": [
            "c:\\Users\\color\\AppData\\Local\\Programs\\Python\\Python312\\Lib\\site-packages\\sklearn\\svm\\_base.py:1237: ConvergenceWarning: Liblinear failed to converge, increase the number of iterations.\n",
            "  warnings.warn(\n"
          ]
        }
      ],
      "source": [
        "from sklearn.pipeline import make_pipeline\n",
        "from sklearn.preprocessing import StandardScaler\n",
        "from sklearn.svm import LinearSVC\n",
        "from sklearn.model_selection import train_test_split\n",
        "\n",
        "X_train, X_test, y_train, y_test = train_test_split(X, y, random_state=42)\n",
        "\n",
        "svm_clf = make_pipeline(StandardScaler(), LinearSVC(C=1, dual=True, max_iter=5000, random_state=42))\n",
        "svm_clf.fit(X_train, y_train)\n",
        "y_pred = svm_clf.predict(X_test)\n",
        "\n"
      ]
    },
    {
      "cell_type": "code",
      "execution_count": 25,
      "metadata": {},
      "outputs": [
        {
          "name": "stdout",
          "output_type": "stream",
          "text": [
            " classification report: \n",
            "               precision    recall  f1-score   support\n",
            "\n",
            "           0       0.75      0.60      0.67      3026\n",
            "           1       0.82      0.90      0.86      6043\n",
            "\n",
            "    accuracy                           0.80      9069\n",
            "   macro avg       0.79      0.75      0.76      9069\n",
            "weighted avg       0.80      0.80      0.80      9069\n",
            "\n",
            "MSE: 0.19781673833939795\n",
            "R2: 0.11026572178961114\n",
            "MAE: 0.19781673833939795\n"
          ]
        }
      ],
      "source": [
        "from sklearn import metrics \n",
        "from sklearn.metrics import classification_report\n",
        "\n",
        "print(f' classification report: \\n {classification_report(y_test, y_pred)}')\n",
        "\n",
        "MSE = mean_squared_error(y_test, y_pred)\n",
        "R2 = r2_score(y_test, y_pred)\n",
        "MAE = mean_absolute_error(y_test, y_pred)\n",
        "\n",
        "print(\"MSE:\", MSE)\n",
        "print(\"R2:\", R2)\n",
        "print(\"MAE:\", MAE)"
      ]
    },
    {
      "attachments": {},
      "cell_type": "markdown",
      "metadata": {},
      "source": [
        "Training a basic linear SVM results in an accuracy of roughly 80%, which is a good start, but improved accuracy would be beneficial.\n",
        "\n",
        "As noted by the ConvergenceWarning, the model fails to converge even with increased iterations. Considering this and the graph of lead_time vs booking_status, the data does not appear to be linearly separable. So, in addition to the linear SVM, we will also try a nonlinear SVM for comparison."
      ]
    },
    {
      "cell_type": "code",
      "execution_count": 26,
      "metadata": {},
      "outputs": [],
      "source": [
        "# trying polynomial kernel\n",
        "\n",
        "from sklearn.svm import SVC\n",
        "\n",
        "poly_kernel_svm_clf = make_pipeline(StandardScaler(), SVC(kernel='poly', degree=3, coef0=1, C=5))\n",
        "\n",
        "poly_kernel_svm_clf.fit(X_train, y_train)\n",
        "\n",
        "y_pred = poly_kernel_svm_clf.predict(X_test)"
      ]
    },
    {
      "cell_type": "code",
      "execution_count": 26,
      "metadata": {},
      "outputs": [
        {
          "name": "stdout",
          "output_type": "stream",
          "text": [
            " classification report: \n",
            "               precision    recall  f1-score   support\n",
            "\n",
            "           0       0.81      0.63      0.71      3026\n",
            "           1       0.83      0.93      0.88      6043\n",
            "\n",
            "    accuracy                           0.83      9069\n",
            "   macro avg       0.82      0.78      0.79      9069\n",
            "weighted avg       0.82      0.83      0.82      9069\n",
            "\n",
            "MSE: 0.17433013562686073\n",
            "R2: 0.2159030692025503\n",
            "MAE: 0.17433013562686073\n"
          ]
        }
      ],
      "source": [
        "print(f' classification report: \\n {classification_report(y_test, y_pred)}')\n",
        "\n",
        "MSE = mean_squared_error(y_test, y_pred)\n",
        "R2 = r2_score(y_test, y_pred)\n",
        "MAE = mean_absolute_error(y_test, y_pred)\n",
        "\n",
        "print(\"MSE:\", MSE)\n",
        "print(\"R2:\", R2)\n",
        "print(\"MAE:\", MAE)"
      ]
    },
    {
      "attachments": {},
      "cell_type": "markdown",
      "metadata": {},
      "source": [
        "The nonlinear SVM performs with a slightly higher but similar accuracy of roughly 83%. These starting accuracies indicate SVM may not be the best choice for our dataset, either linear or nonlinear. To find a model with better accuracy, we will examine more models better suited to our dataset. Next, we will look at the Decision Tree Classifier. "
      ]
    },
    {
      "attachments": {},
      "cell_type": "markdown",
      "metadata": {},
      "source": [
        "### Decision Tree Classifier"
      ]
    },
    {
      "cell_type": "code",
      "execution_count": 227,
      "metadata": {},
      "outputs": [
        {
          "name": "stdout",
          "output_type": "stream",
          "text": [
            "{'max_depth': 13, 'min_samples_leaf': 1, 'min_samples_split': 2}\n"
          ]
        }
      ],
      "source": [
        "from sklearn.model_selection import train_test_split\n",
        "from sklearn.tree import DecisionTreeClassifier\n",
        "from sklearn.metrics import confusion_matrix\n",
        "from sklearn.metrics import classification_report\n",
        "\n",
        "X_train, X_test, y_train, y_test = train_test_split(X, y, random_state=42)\n",
        "\n",
        "# use grid search to find the best hyperparameters\n",
        "from sklearn.model_selection import GridSearchCV\n",
        "\n",
        "param_grid = {\n",
        "    'max_depth': range(10, 15),\n",
        "    'min_samples_split': range(2, 5),\n",
        "    'min_samples_leaf': range(1, 5)\n",
        "}\n",
        "\n",
        "dt = DecisionTreeClassifier()\n",
        "grid_search = GridSearchCV(dt, param_grid, cv=5, scoring='accuracy')\n",
        "grid_search.fit(X_train, y_train)\n",
        "\n",
        "print(grid_search.best_params_)\n",
        "\n",
        "best_max_depth = grid_search.best_params_['max_depth']\n",
        "best_min_samples_split = grid_search.best_params_['min_samples_split']\n",
        "best_min_samples_leaf = grid_search.best_params_['min_samples_leaf']"
      ]
    },
    {
      "cell_type": "code",
      "execution_count": 228,
      "metadata": {},
      "outputs": [
        {
          "name": "stdout",
          "output_type": "stream",
          "text": [
            " confusion matrix: \n",
            " [[2362  664]\n",
            " [ 513 5530]]\n",
            "\n",
            "\n",
            " classification report: \n",
            "               precision    recall  f1-score   support\n",
            "\n",
            "           0       0.82      0.78      0.80      3026\n",
            "           1       0.89      0.92      0.90      6043\n",
            "\n",
            "    accuracy                           0.87      9069\n",
            "   macro avg       0.86      0.85      0.85      9069\n",
            "weighted avg       0.87      0.87      0.87      9069\n",
            "\n",
            "MSE: 0.12978277649134415\n",
            "R2: 0.41626686429563675\n",
            "MAE: 0.12978277649134415\n"
          ]
        }
      ],
      "source": [
        "clf = DecisionTreeClassifier(max_depth=best_max_depth, min_samples_split=best_min_samples_split, min_samples_leaf=best_min_samples_leaf, random_state=42)\n",
        "clf.fit(X_train, y_train)\n",
        "\n",
        "y_pred = clf.predict(X_test)\n",
        "\n",
        "print(f' confusion matrix: \\n {confusion_matrix(y_test, y_pred)}\\n\\n')\n",
        "print(f' classification report: \\n {classification_report(y_test, y_pred)}')\n",
        "\n",
        "MSE = mean_squared_error(y_test, y_pred)\n",
        "R2 = r2_score(y_test, y_pred)\n",
        "MAE = mean_absolute_error(y_test, y_pred)\n",
        "\n",
        "print(\"MSE:\", MSE)\n",
        "print(\"R2:\", R2)\n",
        "print(\"MAE:\", MAE)"
      ]
    },
    {
      "cell_type": "code",
      "execution_count": 229,
      "metadata": {},
      "outputs": [
        {
          "data": {
            "image/svg+xml": [
              "<?xml version=\"1.0\" encoding=\"UTF-8\" standalone=\"no\"?>\n",
              "<!DOCTYPE svg PUBLIC \"-//W3C//DTD SVG 1.1//EN\"\n",
              " \"http://www.w3.org/Graphics/SVG/1.1/DTD/svg11.dtd\">\n",
              "<!-- Generated by graphviz version 10.0.1 (20240210.2158)\n",
              " -->\n",
              "<!-- Title: Tree Pages: 1 -->\n",
              "<svg width=\"1621pt\" height=\"520pt\"\n",
              " viewBox=\"0.00 0.00 1620.50 520.00\" xmlns=\"http://www.w3.org/2000/svg\" xmlns:xlink=\"http://www.w3.org/1999/xlink\">\n",
              "<g id=\"graph0\" class=\"graph\" transform=\"scale(1 1) rotate(0) translate(4 516)\">\n",
              "<title>Tree</title>\n",
              "<polygon fill=\"white\" stroke=\"none\" points=\"-4,4 -4,-516 1616.5,-516 1616.5,4 -4,4\"/>\n",
              "<!-- 0 -->\n",
              "<g id=\"node1\" class=\"node\">\n",
              "<title>0</title>\n",
              "<polygon fill=\"#99ccf2\" stroke=\"black\" points=\"807,-512 660.5,-512 660.5,-429 807,-429 807,-512\"/>\n",
              "<text text-anchor=\"middle\" x=\"733.75\" y=\"-494.7\" font-family=\"Helvetica,sans-Serif\" font-size=\"14.00\">lead_time &lt;= 151.5</text>\n",
              "<text text-anchor=\"middle\" x=\"733.75\" y=\"-479.7\" font-family=\"Helvetica,sans-Serif\" font-size=\"14.00\">gini = 0.439</text>\n",
              "<text text-anchor=\"middle\" x=\"733.75\" y=\"-464.7\" font-family=\"Helvetica,sans-Serif\" font-size=\"14.00\">samples = 27206</text>\n",
              "<text text-anchor=\"middle\" x=\"733.75\" y=\"-449.7\" font-family=\"Helvetica,sans-Serif\" font-size=\"14.00\">value = [8859, 18347]</text>\n",
              "<text text-anchor=\"middle\" x=\"733.75\" y=\"-434.7\" font-family=\"Helvetica,sans-Serif\" font-size=\"14.00\">class = Canceled</text>\n",
              "</g>\n",
              "<!-- 1 -->\n",
              "<g id=\"node2\" class=\"node\">\n",
              "<title>1</title>\n",
              "<polygon fill=\"#74baed\" stroke=\"black\" points=\"643.38,-393 442.12,-393 442.12,-310 643.38,-310 643.38,-393\"/>\n",
              "<text text-anchor=\"middle\" x=\"542.75\" y=\"-375.7\" font-family=\"Helvetica,sans-Serif\" font-size=\"14.00\">no_of_special_requests &lt;= 0.5</text>\n",
              "<text text-anchor=\"middle\" x=\"542.75\" y=\"-360.7\" font-family=\"Helvetica,sans-Serif\" font-size=\"14.00\">gini = 0.353</text>\n",
              "<text text-anchor=\"middle\" x=\"542.75\" y=\"-345.7\" font-family=\"Helvetica,sans-Serif\" font-size=\"14.00\">samples = 21833</text>\n",
              "<text text-anchor=\"middle\" x=\"542.75\" y=\"-330.7\" font-family=\"Helvetica,sans-Serif\" font-size=\"14.00\">value = [5005, 16828]</text>\n",
              "<text text-anchor=\"middle\" x=\"542.75\" y=\"-315.7\" font-family=\"Helvetica,sans-Serif\" font-size=\"14.00\">class = Canceled</text>\n",
              "</g>\n",
              "<!-- 0&#45;&gt;1 -->\n",
              "<g id=\"edge1\" class=\"edge\">\n",
              "<title>0&#45;&gt;1</title>\n",
              "<path fill=\"none\" stroke=\"black\" d=\"M666.95,-428.58C651.54,-419.14 635.02,-409.02 619.24,-399.35\"/>\n",
              "<polygon fill=\"black\" stroke=\"black\" points=\"621.16,-396.43 610.81,-394.19 617.5,-402.4 621.16,-396.43\"/>\n",
              "<text text-anchor=\"middle\" x=\"615.36\" y=\"-411.91\" font-family=\"Helvetica,sans-Serif\" font-size=\"14.00\">True</text>\n",
              "</g>\n",
              "<!-- 1210 -->\n",
              "<g id=\"node17\" class=\"node\">\n",
              "<title>1210</title>\n",
              "<polygon fill=\"#efb387\" stroke=\"black\" points=\"1065.62,-393 859.88,-393 859.88,-310 1065.62,-310 1065.62,-393\"/>\n",
              "<text text-anchor=\"middle\" x=\"962.75\" y=\"-375.7\" font-family=\"Helvetica,sans-Serif\" font-size=\"14.00\">avg_price_per_room &lt;= 100.04</text>\n",
              "<text text-anchor=\"middle\" x=\"962.75\" y=\"-360.7\" font-family=\"Helvetica,sans-Serif\" font-size=\"14.00\">gini = 0.406</text>\n",
              "<text text-anchor=\"middle\" x=\"962.75\" y=\"-345.7\" font-family=\"Helvetica,sans-Serif\" font-size=\"14.00\">samples = 5373</text>\n",
              "<text text-anchor=\"middle\" x=\"962.75\" y=\"-330.7\" font-family=\"Helvetica,sans-Serif\" font-size=\"14.00\">value = [3854, 1519]</text>\n",
              "<text text-anchor=\"middle\" x=\"962.75\" y=\"-315.7\" font-family=\"Helvetica,sans-Serif\" font-size=\"14.00\">class = Not_Canceled</text>\n",
              "</g>\n",
              "<!-- 0&#45;&gt;1210 -->\n",
              "<g id=\"edge16\" class=\"edge\">\n",
              "<title>0&#45;&gt;1210</title>\n",
              "<path fill=\"none\" stroke=\"black\" d=\"M807.47,-431.84C828.24,-421.23 851.06,-409.56 872.67,-398.52\"/>\n",
              "<polygon fill=\"black\" stroke=\"black\" points=\"874.18,-401.68 881.49,-394.02 870.99,-395.45 874.18,-401.68\"/>\n",
              "<text text-anchor=\"middle\" x=\"875.14\" y=\"-411.31\" font-family=\"Helvetica,sans-Serif\" font-size=\"14.00\">False</text>\n",
              "</g>\n",
              "<!-- 2 -->\n",
              "<g id=\"node3\" class=\"node\">\n",
              "<title>2</title>\n",
              "<polygon fill=\"#9bcdf2\" stroke=\"black\" points=\"344.25,-274 103.25,-274 103.25,-191 344.25,-191 344.25,-274\"/>\n",
              "<text text-anchor=\"middle\" x=\"223.75\" y=\"-256.7\" font-family=\"Helvetica,sans-Serif\" font-size=\"14.00\">market_segment_type_Online &lt;= 0.5</text>\n",
              "<text text-anchor=\"middle\" x=\"223.75\" y=\"-241.7\" font-family=\"Helvetica,sans-Serif\" font-size=\"14.00\">gini = 0.442</text>\n",
              "<text text-anchor=\"middle\" x=\"223.75\" y=\"-226.7\" font-family=\"Helvetica,sans-Serif\" font-size=\"14.00\">samples = 11360</text>\n",
              "<text text-anchor=\"middle\" x=\"223.75\" y=\"-211.7\" font-family=\"Helvetica,sans-Serif\" font-size=\"14.00\">value = [3749, 7611]</text>\n",
              "<text text-anchor=\"middle\" x=\"223.75\" y=\"-196.7\" font-family=\"Helvetica,sans-Serif\" font-size=\"14.00\">class = Canceled</text>\n",
              "</g>\n",
              "<!-- 1&#45;&gt;2 -->\n",
              "<g id=\"edge2\" class=\"edge\">\n",
              "<title>1&#45;&gt;2</title>\n",
              "<path fill=\"none\" stroke=\"black\" d=\"M441.82,-313.48C411.4,-302.32 377.67,-289.95 346.02,-278.35\"/>\n",
              "<polygon fill=\"black\" stroke=\"black\" points=\"347.39,-275.12 336.8,-274.96 344.98,-281.69 347.39,-275.12\"/>\n",
              "</g>\n",
              "<!-- 829 -->\n",
              "<g id=\"node10\" class=\"node\">\n",
              "<title>829</title>\n",
              "<polygon fill=\"#54aae9\" stroke=\"black\" points=\"643.38,-274 442.12,-274 442.12,-191 643.38,-191 643.38,-274\"/>\n",
              "<text text-anchor=\"middle\" x=\"542.75\" y=\"-256.7\" font-family=\"Helvetica,sans-Serif\" font-size=\"14.00\">no_of_special_requests &lt;= 1.5</text>\n",
              "<text text-anchor=\"middle\" x=\"542.75\" y=\"-241.7\" font-family=\"Helvetica,sans-Serif\" font-size=\"14.00\">gini = 0.211</text>\n",
              "<text text-anchor=\"middle\" x=\"542.75\" y=\"-226.7\" font-family=\"Helvetica,sans-Serif\" font-size=\"14.00\">samples = 10473</text>\n",
              "<text text-anchor=\"middle\" x=\"542.75\" y=\"-211.7\" font-family=\"Helvetica,sans-Serif\" font-size=\"14.00\">value = [1256, 9217]</text>\n",
              "<text text-anchor=\"middle\" x=\"542.75\" y=\"-196.7\" font-family=\"Helvetica,sans-Serif\" font-size=\"14.00\">class = Canceled</text>\n",
              "</g>\n",
              "<!-- 1&#45;&gt;829 -->\n",
              "<g id=\"edge9\" class=\"edge\">\n",
              "<title>1&#45;&gt;829</title>\n",
              "<path fill=\"none\" stroke=\"black\" d=\"M542.75,-309.58C542.75,-301.79 542.75,-293.53 542.75,-285.45\"/>\n",
              "<polygon fill=\"black\" stroke=\"black\" points=\"546.25,-285.71 542.75,-275.71 539.25,-285.71 546.25,-285.71\"/>\n",
              "</g>\n",
              "<!-- 3 -->\n",
              "<g id=\"node4\" class=\"node\">\n",
              "<title>3</title>\n",
              "<polygon fill=\"#5aade9\" stroke=\"black\" points=\"131.5,-155 0,-155 0,-72 131.5,-72 131.5,-155\"/>\n",
              "<text text-anchor=\"middle\" x=\"65.75\" y=\"-137.7\" font-family=\"Helvetica,sans-Serif\" font-size=\"14.00\">lead_time &lt;= 92.5</text>\n",
              "<text text-anchor=\"middle\" x=\"65.75\" y=\"-122.7\" font-family=\"Helvetica,sans-Serif\" font-size=\"14.00\">gini = 0.245</text>\n",
              "<text text-anchor=\"middle\" x=\"65.75\" y=\"-107.7\" font-family=\"Helvetica,sans-Serif\" font-size=\"14.00\">samples = 5793</text>\n",
              "<text text-anchor=\"middle\" x=\"65.75\" y=\"-92.7\" font-family=\"Helvetica,sans-Serif\" font-size=\"14.00\">value = [830, 4963]</text>\n",
              "<text text-anchor=\"middle\" x=\"65.75\" y=\"-77.7\" font-family=\"Helvetica,sans-Serif\" font-size=\"14.00\">class = Canceled</text>\n",
              "</g>\n",
              "<!-- 2&#45;&gt;3 -->\n",
              "<g id=\"edge3\" class=\"edge\">\n",
              "<title>2&#45;&gt;3</title>\n",
              "<path fill=\"none\" stroke=\"black\" d=\"M168.49,-190.58C156.1,-181.41 142.85,-171.6 130.13,-162.17\"/>\n",
              "<polygon fill=\"black\" stroke=\"black\" points=\"132.32,-159.44 122.2,-156.3 128.15,-165.06 132.32,-159.44\"/>\n",
              "</g>\n",
              "<!-- 352 -->\n",
              "<g id=\"node7\" class=\"node\">\n",
              "<title>352</title>\n",
              "<polygon fill=\"#fdf3ed\" stroke=\"black\" points=\"297.75,-155 149.75,-155 149.75,-72 297.75,-72 297.75,-155\"/>\n",
              "<text text-anchor=\"middle\" x=\"223.75\" y=\"-137.7\" font-family=\"Helvetica,sans-Serif\" font-size=\"14.00\">lead_time &lt;= 13.5</text>\n",
              "<text text-anchor=\"middle\" x=\"223.75\" y=\"-122.7\" font-family=\"Helvetica,sans-Serif\" font-size=\"14.00\">gini = 0.499</text>\n",
              "<text text-anchor=\"middle\" x=\"223.75\" y=\"-107.7\" font-family=\"Helvetica,sans-Serif\" font-size=\"14.00\">samples = 5567</text>\n",
              "<text text-anchor=\"middle\" x=\"223.75\" y=\"-92.7\" font-family=\"Helvetica,sans-Serif\" font-size=\"14.00\">value = [2919, 2648]</text>\n",
              "<text text-anchor=\"middle\" x=\"223.75\" y=\"-77.7\" font-family=\"Helvetica,sans-Serif\" font-size=\"14.00\">class = Not_Canceled</text>\n",
              "</g>\n",
              "<!-- 2&#45;&gt;352 -->\n",
              "<g id=\"edge6\" class=\"edge\">\n",
              "<title>2&#45;&gt;352</title>\n",
              "<path fill=\"none\" stroke=\"black\" d=\"M223.75,-190.58C223.75,-182.79 223.75,-174.53 223.75,-166.45\"/>\n",
              "<polygon fill=\"black\" stroke=\"black\" points=\"227.25,-166.71 223.75,-156.71 220.25,-166.71 227.25,-166.71\"/>\n",
              "</g>\n",
              "<!-- 4 -->\n",
              "<g id=\"node5\" class=\"node\">\n",
              "<title>4</title>\n",
              "<polygon fill=\"#c0c0c0\" stroke=\"black\" points=\"56.75,-36 2.75,-36 2.75,0 56.75,0 56.75,-36\"/>\n",
              "<text text-anchor=\"middle\" x=\"29.75\" y=\"-12.2\" font-family=\"Helvetica,sans-Serif\" font-size=\"14.00\">(...)</text>\n",
              "</g>\n",
              "<!-- 3&#45;&gt;4 -->\n",
              "<g id=\"edge4\" class=\"edge\">\n",
              "<title>3&#45;&gt;4</title>\n",
              "<path fill=\"none\" stroke=\"black\" d=\"M50.06,-71.76C46.86,-63.43 43.55,-54.84 40.56,-47.07\"/>\n",
              "<polygon fill=\"black\" stroke=\"black\" points=\"43.85,-45.89 37,-37.82 37.32,-48.41 43.85,-45.89\"/>\n",
              "</g>\n",
              "<!-- 161 -->\n",
              "<g id=\"node6\" class=\"node\">\n",
              "<title>161</title>\n",
              "<polygon fill=\"#c0c0c0\" stroke=\"black\" points=\"128.75,-36 74.75,-36 74.75,0 128.75,0 128.75,-36\"/>\n",
              "<text text-anchor=\"middle\" x=\"101.75\" y=\"-12.2\" font-family=\"Helvetica,sans-Serif\" font-size=\"14.00\">(...)</text>\n",
              "</g>\n",
              "<!-- 3&#45;&gt;161 -->\n",
              "<g id=\"edge5\" class=\"edge\">\n",
              "<title>3&#45;&gt;161</title>\n",
              "<path fill=\"none\" stroke=\"black\" d=\"M81.44,-71.76C84.64,-63.43 87.95,-54.84 90.94,-47.07\"/>\n",
              "<polygon fill=\"black\" stroke=\"black\" points=\"94.18,-48.41 94.5,-37.82 87.65,-45.89 94.18,-48.41\"/>\n",
              "</g>\n",
              "<!-- 353 -->\n",
              "<g id=\"node8\" class=\"node\">\n",
              "<title>353</title>\n",
              "<polygon fill=\"#c0c0c0\" stroke=\"black\" points=\"237.75,-36 183.75,-36 183.75,0 237.75,0 237.75,-36\"/>\n",
              "<text text-anchor=\"middle\" x=\"210.75\" y=\"-12.2\" font-family=\"Helvetica,sans-Serif\" font-size=\"14.00\">(...)</text>\n",
              "</g>\n",
              "<!-- 352&#45;&gt;353 -->\n",
              "<g id=\"edge7\" class=\"edge\">\n",
              "<title>352&#45;&gt;353</title>\n",
              "<path fill=\"none\" stroke=\"black\" d=\"M218.09,-71.76C216.95,-63.62 215.79,-55.24 214.73,-47.61\"/>\n",
              "<polygon fill=\"black\" stroke=\"black\" points=\"218.22,-47.33 213.38,-37.9 211.29,-48.29 218.22,-47.33\"/>\n",
              "</g>\n",
              "<!-- 492 -->\n",
              "<g id=\"node9\" class=\"node\">\n",
              "<title>492</title>\n",
              "<polygon fill=\"#c0c0c0\" stroke=\"black\" points=\"309.75,-36 255.75,-36 255.75,0 309.75,0 309.75,-36\"/>\n",
              "<text text-anchor=\"middle\" x=\"282.75\" y=\"-12.2\" font-family=\"Helvetica,sans-Serif\" font-size=\"14.00\">(...)</text>\n",
              "</g>\n",
              "<!-- 352&#45;&gt;492 -->\n",
              "<g id=\"edge8\" class=\"edge\">\n",
              "<title>352&#45;&gt;492</title>\n",
              "<path fill=\"none\" stroke=\"black\" d=\"M249.46,-71.76C254.96,-63.04 260.64,-54.04 265.72,-45.99\"/>\n",
              "<polygon fill=\"black\" stroke=\"black\" points=\"268.58,-48.01 270.96,-37.69 262.66,-44.27 268.58,-48.01\"/>\n",
              "</g>\n",
              "<!-- 830 -->\n",
              "<g id=\"node11\" class=\"node\">\n",
              "<title>830</title>\n",
              "<polygon fill=\"#5dafea\" stroke=\"black\" points=\"557.25,-155 316.25,-155 316.25,-72 557.25,-72 557.25,-155\"/>\n",
              "<text text-anchor=\"middle\" x=\"436.75\" y=\"-137.7\" font-family=\"Helvetica,sans-Serif\" font-size=\"14.00\">market_segment_type_Online &lt;= 0.5</text>\n",
              "<text text-anchor=\"middle\" x=\"436.75\" y=\"-122.7\" font-family=\"Helvetica,sans-Serif\" font-size=\"14.00\">gini = 0.26</text>\n",
              "<text text-anchor=\"middle\" x=\"436.75\" y=\"-107.7\" font-family=\"Helvetica,sans-Serif\" font-size=\"14.00\">samples = 7175</text>\n",
              "<text text-anchor=\"middle\" x=\"436.75\" y=\"-92.7\" font-family=\"Helvetica,sans-Serif\" font-size=\"14.00\">value = [1102, 6073]</text>\n",
              "<text text-anchor=\"middle\" x=\"436.75\" y=\"-77.7\" font-family=\"Helvetica,sans-Serif\" font-size=\"14.00\">class = Canceled</text>\n",
              "</g>\n",
              "<!-- 829&#45;&gt;830 -->\n",
              "<g id=\"edge10\" class=\"edge\">\n",
              "<title>829&#45;&gt;830</title>\n",
              "<path fill=\"none\" stroke=\"black\" d=\"M505.68,-190.58C497.8,-181.89 489.42,-172.63 481.3,-163.67\"/>\n",
              "<polygon fill=\"black\" stroke=\"black\" points=\"483.95,-161.38 474.64,-156.32 478.76,-166.08 483.95,-161.38\"/>\n",
              "</g>\n",
              "<!-- 1091 -->\n",
              "<g id=\"node14\" class=\"node\">\n",
              "<title>1091</title>\n",
              "<polygon fill=\"#43a2e6\" stroke=\"black\" points=\"706.5,-155 575,-155 575,-72 706.5,-72 706.5,-155\"/>\n",
              "<text text-anchor=\"middle\" x=\"640.75\" y=\"-137.7\" font-family=\"Helvetica,sans-Serif\" font-size=\"14.00\">lead_time &lt;= 89.5</text>\n",
              "<text text-anchor=\"middle\" x=\"640.75\" y=\"-122.7\" font-family=\"Helvetica,sans-Serif\" font-size=\"14.00\">gini = 0.089</text>\n",
              "<text text-anchor=\"middle\" x=\"640.75\" y=\"-107.7\" font-family=\"Helvetica,sans-Serif\" font-size=\"14.00\">samples = 3298</text>\n",
              "<text text-anchor=\"middle\" x=\"640.75\" y=\"-92.7\" font-family=\"Helvetica,sans-Serif\" font-size=\"14.00\">value = [154, 3144]</text>\n",
              "<text text-anchor=\"middle\" x=\"640.75\" y=\"-77.7\" font-family=\"Helvetica,sans-Serif\" font-size=\"14.00\">class = Canceled</text>\n",
              "</g>\n",
              "<!-- 829&#45;&gt;1091 -->\n",
              "<g id=\"edge13\" class=\"edge\">\n",
              "<title>829&#45;&gt;1091</title>\n",
              "<path fill=\"none\" stroke=\"black\" d=\"M577.03,-190.58C584.23,-181.98 591.9,-172.82 599.33,-163.95\"/>\n",
              "<polygon fill=\"black\" stroke=\"black\" points=\"601.95,-166.27 605.69,-156.36 596.58,-161.78 601.95,-166.27\"/>\n",
              "</g>\n",
              "<!-- 831 -->\n",
              "<g id=\"node12\" class=\"node\">\n",
              "<title>831</title>\n",
              "<polygon fill=\"#c0c0c0\" stroke=\"black\" points=\"404.75,-36 350.75,-36 350.75,0 404.75,0 404.75,-36\"/>\n",
              "<text text-anchor=\"middle\" x=\"377.75\" y=\"-12.2\" font-family=\"Helvetica,sans-Serif\" font-size=\"14.00\">(...)</text>\n",
              "</g>\n",
              "<!-- 830&#45;&gt;831 -->\n",
              "<g id=\"edge11\" class=\"edge\">\n",
              "<title>830&#45;&gt;831</title>\n",
              "<path fill=\"none\" stroke=\"black\" d=\"M411.04,-71.76C405.54,-63.04 399.86,-54.04 394.78,-45.99\"/>\n",
              "<polygon fill=\"black\" stroke=\"black\" points=\"397.84,-44.27 389.54,-37.69 391.92,-48.01 397.84,-44.27\"/>\n",
              "</g>\n",
              "<!-- 876 -->\n",
              "<g id=\"node13\" class=\"node\">\n",
              "<title>876</title>\n",
              "<polygon fill=\"#c0c0c0\" stroke=\"black\" points=\"476.75,-36 422.75,-36 422.75,0 476.75,0 476.75,-36\"/>\n",
              "<text text-anchor=\"middle\" x=\"449.75\" y=\"-12.2\" font-family=\"Helvetica,sans-Serif\" font-size=\"14.00\">(...)</text>\n",
              "</g>\n",
              "<!-- 830&#45;&gt;876 -->\n",
              "<g id=\"edge12\" class=\"edge\">\n",
              "<title>830&#45;&gt;876</title>\n",
              "<path fill=\"none\" stroke=\"black\" d=\"M442.41,-71.76C443.55,-63.62 444.71,-55.24 445.77,-47.61\"/>\n",
              "<polygon fill=\"black\" stroke=\"black\" points=\"449.21,-48.29 447.12,-37.9 442.28,-47.33 449.21,-48.29\"/>\n",
              "</g>\n",
              "<!-- 1092 -->\n",
              "<g id=\"node15\" class=\"node\">\n",
              "<title>1092</title>\n",
              "<polygon fill=\"#c0c0c0\" stroke=\"black\" points=\"625.75,-36 571.75,-36 571.75,0 625.75,0 625.75,-36\"/>\n",
              "<text text-anchor=\"middle\" x=\"598.75\" y=\"-12.2\" font-family=\"Helvetica,sans-Serif\" font-size=\"14.00\">(...)</text>\n",
              "</g>\n",
              "<!-- 1091&#45;&gt;1092 -->\n",
              "<g id=\"edge14\" class=\"edge\">\n",
              "<title>1091&#45;&gt;1092</title>\n",
              "<path fill=\"none\" stroke=\"black\" d=\"M622.45,-71.76C618.66,-63.33 614.76,-54.64 611.24,-46.8\"/>\n",
              "<polygon fill=\"black\" stroke=\"black\" points=\"614.48,-45.47 607.19,-37.79 608.09,-48.34 614.48,-45.47\"/>\n",
              "</g>\n",
              "<!-- 1135 -->\n",
              "<g id=\"node16\" class=\"node\">\n",
              "<title>1135</title>\n",
              "<polygon fill=\"#c0c0c0\" stroke=\"black\" points=\"697.75,-36 643.75,-36 643.75,0 697.75,0 697.75,-36\"/>\n",
              "<text text-anchor=\"middle\" x=\"670.75\" y=\"-12.2\" font-family=\"Helvetica,sans-Serif\" font-size=\"14.00\">(...)</text>\n",
              "</g>\n",
              "<!-- 1091&#45;&gt;1135 -->\n",
              "<g id=\"edge15\" class=\"edge\">\n",
              "<title>1091&#45;&gt;1135</title>\n",
              "<path fill=\"none\" stroke=\"black\" d=\"M653.82,-71.76C656.46,-63.53 659.19,-55.04 661.66,-47.34\"/>\n",
              "<polygon fill=\"black\" stroke=\"black\" points=\"664.98,-48.44 664.7,-37.85 658.32,-46.3 664.98,-48.44\"/>\n",
              "</g>\n",
              "<!-- 1211 -->\n",
              "<g id=\"node18\" class=\"node\">\n",
              "<title>1211</title>\n",
              "<polygon fill=\"#fcf2ea\" stroke=\"black\" points=\"1063.38,-274 862.12,-274 862.12,-191 1063.38,-191 1063.38,-274\"/>\n",
              "<text text-anchor=\"middle\" x=\"962.75\" y=\"-256.7\" font-family=\"Helvetica,sans-Serif\" font-size=\"14.00\">no_of_special_requests &lt;= 0.5</text>\n",
              "<text text-anchor=\"middle\" x=\"962.75\" y=\"-241.7\" font-family=\"Helvetica,sans-Serif\" font-size=\"14.00\">gini = 0.499</text>\n",
              "<text text-anchor=\"middle\" x=\"962.75\" y=\"-226.7\" font-family=\"Helvetica,sans-Serif\" font-size=\"14.00\">samples = 2983</text>\n",
              "<text text-anchor=\"middle\" x=\"962.75\" y=\"-211.7\" font-family=\"Helvetica,sans-Serif\" font-size=\"14.00\">value = [1573, 1410]</text>\n",
              "<text text-anchor=\"middle\" x=\"962.75\" y=\"-196.7\" font-family=\"Helvetica,sans-Serif\" font-size=\"14.00\">class = Not_Canceled</text>\n",
              "</g>\n",
              "<!-- 1210&#45;&gt;1211 -->\n",
              "<g id=\"edge17\" class=\"edge\">\n",
              "<title>1210&#45;&gt;1211</title>\n",
              "<path fill=\"none\" stroke=\"black\" d=\"M962.75,-309.58C962.75,-301.79 962.75,-293.53 962.75,-285.45\"/>\n",
              "<polygon fill=\"black\" stroke=\"black\" points=\"966.25,-285.71 962.75,-275.71 959.25,-285.71 966.25,-285.71\"/>\n",
              "</g>\n",
              "<!-- 1582 -->\n",
              "<g id=\"node25\" class=\"node\">\n",
              "<title>1582</title>\n",
              "<polygon fill=\"#e68742\" stroke=\"black\" points=\"1437.38,-274 1236.12,-274 1236.12,-191 1437.38,-191 1437.38,-274\"/>\n",
              "<text text-anchor=\"middle\" x=\"1336.75\" y=\"-256.7\" font-family=\"Helvetica,sans-Serif\" font-size=\"14.00\">no_of_special_requests &lt;= 2.5</text>\n",
              "<text text-anchor=\"middle\" x=\"1336.75\" y=\"-241.7\" font-family=\"Helvetica,sans-Serif\" font-size=\"14.00\">gini = 0.087</text>\n",
              "<text text-anchor=\"middle\" x=\"1336.75\" y=\"-226.7\" font-family=\"Helvetica,sans-Serif\" font-size=\"14.00\">samples = 2390</text>\n",
              "<text text-anchor=\"middle\" x=\"1336.75\" y=\"-211.7\" font-family=\"Helvetica,sans-Serif\" font-size=\"14.00\">value = [2281, 109]</text>\n",
              "<text text-anchor=\"middle\" x=\"1336.75\" y=\"-196.7\" font-family=\"Helvetica,sans-Serif\" font-size=\"14.00\">class = Not_Canceled</text>\n",
              "</g>\n",
              "<!-- 1210&#45;&gt;1582 -->\n",
              "<g id=\"edge24\" class=\"edge\">\n",
              "<title>1210&#45;&gt;1582</title>\n",
              "<path fill=\"none\" stroke=\"black\" d=\"M1065.94,-318.22C1115.29,-302.78 1174.46,-284.27 1224.89,-268.49\"/>\n",
              "<polygon fill=\"black\" stroke=\"black\" points=\"1225.9,-271.85 1234.39,-265.52 1223.81,-265.17 1225.9,-271.85\"/>\n",
              "</g>\n",
              "<!-- 1212 -->\n",
              "<g id=\"node19\" class=\"node\">\n",
              "<title>1212</title>\n",
              "<polygon fill=\"#f4c9aa\" stroke=\"black\" points=\"965.25,-155 724.25,-155 724.25,-72 965.25,-72 965.25,-155\"/>\n",
              "<text text-anchor=\"middle\" x=\"844.75\" y=\"-137.7\" font-family=\"Helvetica,sans-Serif\" font-size=\"14.00\">market_segment_type_Online &lt;= 0.5</text>\n",
              "<text text-anchor=\"middle\" x=\"844.75\" y=\"-122.7\" font-family=\"Helvetica,sans-Serif\" font-size=\"14.00\">gini = 0.463</text>\n",
              "<text text-anchor=\"middle\" x=\"844.75\" y=\"-107.7\" font-family=\"Helvetica,sans-Serif\" font-size=\"14.00\">samples = 2082</text>\n",
              "<text text-anchor=\"middle\" x=\"844.75\" y=\"-92.7\" font-family=\"Helvetica,sans-Serif\" font-size=\"14.00\">value = [1325, 757]</text>\n",
              "<text text-anchor=\"middle\" x=\"844.75\" y=\"-77.7\" font-family=\"Helvetica,sans-Serif\" font-size=\"14.00\">class = Not_Canceled</text>\n",
              "</g>\n",
              "<!-- 1211&#45;&gt;1212 -->\n",
              "<g id=\"edge18\" class=\"edge\">\n",
              "<title>1211&#45;&gt;1212</title>\n",
              "<path fill=\"none\" stroke=\"black\" d=\"M921.48,-190.58C912.54,-181.71 902.99,-172.25 893.78,-163.12\"/>\n",
              "<polygon fill=\"black\" stroke=\"black\" points=\"896.44,-160.82 886.87,-156.27 891.51,-165.79 896.44,-160.82\"/>\n",
              "</g>\n",
              "<!-- 1405 -->\n",
              "<g id=\"node22\" class=\"node\">\n",
              "<title>1405</title>\n",
              "<polygon fill=\"#84c2ef\" stroke=\"black\" points=\"1180.5,-155 983,-155 983,-72 1180.5,-72 1180.5,-155\"/>\n",
              "<text text-anchor=\"middle\" x=\"1081.75\" y=\"-137.7\" font-family=\"Helvetica,sans-Serif\" font-size=\"14.00\">no_of_weekend_nights &lt;= 0.5</text>\n",
              "<text text-anchor=\"middle\" x=\"1081.75\" y=\"-122.7\" font-family=\"Helvetica,sans-Serif\" font-size=\"14.00\">gini = 0.399</text>\n",
              "<text text-anchor=\"middle\" x=\"1081.75\" y=\"-107.7\" font-family=\"Helvetica,sans-Serif\" font-size=\"14.00\">samples = 901</text>\n",
              "<text text-anchor=\"middle\" x=\"1081.75\" y=\"-92.7\" font-family=\"Helvetica,sans-Serif\" font-size=\"14.00\">value = [248, 653]</text>\n",
              "<text text-anchor=\"middle\" x=\"1081.75\" y=\"-77.7\" font-family=\"Helvetica,sans-Serif\" font-size=\"14.00\">class = Canceled</text>\n",
              "</g>\n",
              "<!-- 1211&#45;&gt;1405 -->\n",
              "<g id=\"edge21\" class=\"edge\">\n",
              "<title>1211&#45;&gt;1405</title>\n",
              "<path fill=\"none\" stroke=\"black\" d=\"M1004.37,-190.58C1013.39,-181.71 1023.01,-172.25 1032.3,-163.12\"/>\n",
              "<polygon fill=\"black\" stroke=\"black\" points=\"1034.6,-165.77 1039.27,-156.26 1029.69,-160.78 1034.6,-165.77\"/>\n",
              "</g>\n",
              "<!-- 1213 -->\n",
              "<g id=\"node20\" class=\"node\">\n",
              "<title>1213</title>\n",
              "<polygon fill=\"#c0c0c0\" stroke=\"black\" points=\"835.75,-36 781.75,-36 781.75,0 835.75,0 835.75,-36\"/>\n",
              "<text text-anchor=\"middle\" x=\"808.75\" y=\"-12.2\" font-family=\"Helvetica,sans-Serif\" font-size=\"14.00\">(...)</text>\n",
              "</g>\n",
              "<!-- 1212&#45;&gt;1213 -->\n",
              "<g id=\"edge19\" class=\"edge\">\n",
              "<title>1212&#45;&gt;1213</title>\n",
              "<path fill=\"none\" stroke=\"black\" d=\"M829.06,-71.76C825.86,-63.43 822.55,-54.84 819.56,-47.07\"/>\n",
              "<polygon fill=\"black\" stroke=\"black\" points=\"822.85,-45.89 816,-37.82 816.32,-48.41 822.85,-45.89\"/>\n",
              "</g>\n",
              "<!-- 1364 -->\n",
              "<g id=\"node21\" class=\"node\">\n",
              "<title>1364</title>\n",
              "<polygon fill=\"#c0c0c0\" stroke=\"black\" points=\"907.75,-36 853.75,-36 853.75,0 907.75,0 907.75,-36\"/>\n",
              "<text text-anchor=\"middle\" x=\"880.75\" y=\"-12.2\" font-family=\"Helvetica,sans-Serif\" font-size=\"14.00\">(...)</text>\n",
              "</g>\n",
              "<!-- 1212&#45;&gt;1364 -->\n",
              "<g id=\"edge20\" class=\"edge\">\n",
              "<title>1212&#45;&gt;1364</title>\n",
              "<path fill=\"none\" stroke=\"black\" d=\"M860.44,-71.76C863.64,-63.43 866.95,-54.84 869.94,-47.07\"/>\n",
              "<polygon fill=\"black\" stroke=\"black\" points=\"873.18,-48.41 873.5,-37.82 866.65,-45.89 873.18,-48.41\"/>\n",
              "</g>\n",
              "<!-- 1406 -->\n",
              "<g id=\"node23\" class=\"node\">\n",
              "<title>1406</title>\n",
              "<polygon fill=\"#c0c0c0\" stroke=\"black\" points=\"1072.75,-36 1018.75,-36 1018.75,0 1072.75,0 1072.75,-36\"/>\n",
              "<text text-anchor=\"middle\" x=\"1045.75\" y=\"-12.2\" font-family=\"Helvetica,sans-Serif\" font-size=\"14.00\">(...)</text>\n",
              "</g>\n",
              "<!-- 1405&#45;&gt;1406 -->\n",
              "<g id=\"edge22\" class=\"edge\">\n",
              "<title>1405&#45;&gt;1406</title>\n",
              "<path fill=\"none\" stroke=\"black\" d=\"M1066.06,-71.76C1062.86,-63.43 1059.55,-54.84 1056.56,-47.07\"/>\n",
              "<polygon fill=\"black\" stroke=\"black\" points=\"1059.85,-45.89 1053,-37.82 1053.32,-48.41 1059.85,-45.89\"/>\n",
              "</g>\n",
              "<!-- 1475 -->\n",
              "<g id=\"node24\" class=\"node\">\n",
              "<title>1475</title>\n",
              "<polygon fill=\"#c0c0c0\" stroke=\"black\" points=\"1144.75,-36 1090.75,-36 1090.75,0 1144.75,0 1144.75,-36\"/>\n",
              "<text text-anchor=\"middle\" x=\"1117.75\" y=\"-12.2\" font-family=\"Helvetica,sans-Serif\" font-size=\"14.00\">(...)</text>\n",
              "</g>\n",
              "<!-- 1405&#45;&gt;1475 -->\n",
              "<g id=\"edge23\" class=\"edge\">\n",
              "<title>1405&#45;&gt;1475</title>\n",
              "<path fill=\"none\" stroke=\"black\" d=\"M1097.44,-71.76C1100.64,-63.43 1103.95,-54.84 1106.94,-47.07\"/>\n",
              "<polygon fill=\"black\" stroke=\"black\" points=\"1110.18,-48.41 1110.5,-37.82 1103.65,-45.89 1110.18,-48.41\"/>\n",
              "</g>\n",
              "<!-- 1583 -->\n",
              "<g id=\"node26\" class=\"node\">\n",
              "<title>1583</title>\n",
              "<polygon fill=\"#e6853f\" stroke=\"black\" points=\"1474.88,-155 1198.62,-155 1198.62,-72 1474.88,-72 1474.88,-155\"/>\n",
              "<text text-anchor=\"middle\" x=\"1336.75\" y=\"-137.7\" font-family=\"Helvetica,sans-Serif\" font-size=\"14.00\">room_type_reserved_Room_Type 1 &lt;= 0.5</text>\n",
              "<text text-anchor=\"middle\" x=\"1336.75\" y=\"-122.7\" font-family=\"Helvetica,sans-Serif\" font-size=\"14.00\">gini = 0.059</text>\n",
              "<text text-anchor=\"middle\" x=\"1336.75\" y=\"-107.7\" font-family=\"Helvetica,sans-Serif\" font-size=\"14.00\">samples = 2353</text>\n",
              "<text text-anchor=\"middle\" x=\"1336.75\" y=\"-92.7\" font-family=\"Helvetica,sans-Serif\" font-size=\"14.00\">value = [2281, 72]</text>\n",
              "<text text-anchor=\"middle\" x=\"1336.75\" y=\"-77.7\" font-family=\"Helvetica,sans-Serif\" font-size=\"14.00\">class = Not_Canceled</text>\n",
              "</g>\n",
              "<!-- 1582&#45;&gt;1583 -->\n",
              "<g id=\"edge25\" class=\"edge\">\n",
              "<title>1582&#45;&gt;1583</title>\n",
              "<path fill=\"none\" stroke=\"black\" d=\"M1336.75,-190.58C1336.75,-182.79 1336.75,-174.53 1336.75,-166.45\"/>\n",
              "<polygon fill=\"black\" stroke=\"black\" points=\"1340.25,-166.71 1336.75,-156.71 1333.25,-166.71 1340.25,-166.71\"/>\n",
              "</g>\n",
              "<!-- 1720 -->\n",
              "<g id=\"node29\" class=\"node\">\n",
              "<title>1720</title>\n",
              "<polygon fill=\"#399de5\" stroke=\"black\" points=\"1612.5,-147.5 1493,-147.5 1493,-79.5 1612.5,-79.5 1612.5,-147.5\"/>\n",
              "<text text-anchor=\"middle\" x=\"1552.75\" y=\"-130.2\" font-family=\"Helvetica,sans-Serif\" font-size=\"14.00\">gini = 0.0</text>\n",
              "<text text-anchor=\"middle\" x=\"1552.75\" y=\"-115.2\" font-family=\"Helvetica,sans-Serif\" font-size=\"14.00\">samples = 37</text>\n",
              "<text text-anchor=\"middle\" x=\"1552.75\" y=\"-100.2\" font-family=\"Helvetica,sans-Serif\" font-size=\"14.00\">value = [0, 37]</text>\n",
              "<text text-anchor=\"middle\" x=\"1552.75\" y=\"-85.2\" font-family=\"Helvetica,sans-Serif\" font-size=\"14.00\">class = Canceled</text>\n",
              "</g>\n",
              "<!-- 1582&#45;&gt;1720 -->\n",
              "<g id=\"edge28\" class=\"edge\">\n",
              "<title>1582&#45;&gt;1720</title>\n",
              "<path fill=\"none\" stroke=\"black\" d=\"M1417.25,-190.55C1438.96,-179.25 1462.35,-166.84 1483.75,-155 1484.65,-154.5 1485.56,-153.99 1486.48,-153.49\"/>\n",
              "<polygon fill=\"black\" stroke=\"black\" points=\"1488.09,-156.59 1495.08,-148.63 1484.65,-150.5 1488.09,-156.59\"/>\n",
              "</g>\n",
              "<!-- 1584 -->\n",
              "<g id=\"node27\" class=\"node\">\n",
              "<title>1584</title>\n",
              "<polygon fill=\"#c0c0c0\" stroke=\"black\" points=\"1327.75,-36 1273.75,-36 1273.75,0 1327.75,0 1327.75,-36\"/>\n",
              "<text text-anchor=\"middle\" x=\"1300.75\" y=\"-12.2\" font-family=\"Helvetica,sans-Serif\" font-size=\"14.00\">(...)</text>\n",
              "</g>\n",
              "<!-- 1583&#45;&gt;1584 -->\n",
              "<g id=\"edge26\" class=\"edge\">\n",
              "<title>1583&#45;&gt;1584</title>\n",
              "<path fill=\"none\" stroke=\"black\" d=\"M1321.06,-71.76C1317.86,-63.43 1314.55,-54.84 1311.56,-47.07\"/>\n",
              "<polygon fill=\"black\" stroke=\"black\" points=\"1314.85,-45.89 1308,-37.82 1308.32,-48.41 1314.85,-45.89\"/>\n",
              "</g>\n",
              "<!-- 1659 -->\n",
              "<g id=\"node28\" class=\"node\">\n",
              "<title>1659</title>\n",
              "<polygon fill=\"#c0c0c0\" stroke=\"black\" points=\"1399.75,-36 1345.75,-36 1345.75,0 1399.75,0 1399.75,-36\"/>\n",
              "<text text-anchor=\"middle\" x=\"1372.75\" y=\"-12.2\" font-family=\"Helvetica,sans-Serif\" font-size=\"14.00\">(...)</text>\n",
              "</g>\n",
              "<!-- 1583&#45;&gt;1659 -->\n",
              "<g id=\"edge27\" class=\"edge\">\n",
              "<title>1583&#45;&gt;1659</title>\n",
              "<path fill=\"none\" stroke=\"black\" d=\"M1352.44,-71.76C1355.64,-63.43 1358.95,-54.84 1361.94,-47.07\"/>\n",
              "<polygon fill=\"black\" stroke=\"black\" points=\"1365.18,-48.41 1365.5,-37.82 1358.65,-45.89 1365.18,-48.41\"/>\n",
              "</g>\n",
              "</g>\n",
              "</svg>\n"
            ],
            "text/plain": [
              "<graphviz.sources.Source at 0x158a009d0>"
            ]
          },
          "execution_count": 229,
          "metadata": {},
          "output_type": "execute_result"
        }
      ],
      "source": [
        "# Visualize the decision tree\n",
        "from sklearn.tree import export_graphviz\n",
        "import graphviz\n",
        "\n",
        "export_graphviz(clf, out_file='tree.dot', feature_names=X.columns, class_names=['Not_Canceled', 'Canceled'], filled=True, max_depth=3)\n",
        "\n",
        "with open('tree.dot') as f:\n",
        "    dot_graph = f.read()\n",
        "\n",
        "graphviz.Source(dot_graph)"
      ]
    },
    {
      "cell_type": "code",
      "execution_count": 230,
      "metadata": {},
      "outputs": [
        {
          "name": "stdout",
          "output_type": "stream",
          "text": [
            "Top 5 features based on gini impurity:\n",
            "lead_time 0.42007659622302573\n",
            "avg_price_per_room 0.2054605237988037\n",
            "market_segment_type_Online 0.13881370421909722\n",
            "no_of_special_requests 0.09869850873680912\n",
            "no_of_week_nights 0.03540076987233566\n"
          ]
        }
      ],
      "source": [
        "# Feature importance based on gini impurity\n",
        "features_importances  = clf.feature_importances_\n",
        "\n",
        "features_importances_dict = {index: item for index, item in enumerate(features_importances)}\n",
        "sorted_features_importances = sorted(features_importances_dict.items(), key=lambda x: x[1], reverse=True)\n",
        "\n",
        "print(\"Top 5 features based on gini impurity:\")\n",
        "for i in range(5):\n",
        "    print(X.columns[sorted_features_importances[i][0]], sorted_features_importances[i][1])"
      ]
    },
    {
      "attachments": {},
      "cell_type": "markdown",
      "metadata": {},
      "source": [
        "Top 5 features based on gini impurity:\n",
        "lead_time 0.39872681928218945\n",
        "avg_price_per_room 0.24506119999307657\n",
        "market_segment_type_Online 0.0958424165108314\n",
        "no_of_special_requests 0.0694480920300033\n",
        "no_of_week_nights 0.06443788890119007\n",
        "\n",
        "As seen here, lead_time and avg_price_per_room are the top features for the decision tree. This aligns with our findings in the PCA dimensionality reduction, in which these were most heavily weighted features for the first two principal components."
      ]
    }
  ],
  "metadata": {
    "kernelspec": {
      "display_name": "Python 3 (ipykernel)",
      "language": "python",
      "name": "python3"
    },
    "language_info": {
      "codemirror_mode": {
        "name": "ipython",
        "version": 3
      },
      "file_extension": ".py",
      "mimetype": "text/x-python",
      "name": "python",
      "nbconvert_exporter": "python",
      "pygments_lexer": "ipython3",
      "version": "3.12.2"
    }
  },
  "nbformat": 4,
  "nbformat_minor": 2
}
