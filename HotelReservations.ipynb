{
 "cells": [
  {
   "cell_type": "markdown",
   "metadata": {},
   "source": [
    "### Hotel Reservations: \n",
    "\n",
    "Our dataset comes from Kaggle and can be found at the following link: https://www.kaggle.com/datasets/ahsan81/hotel-reservations-classification-dataset\n",
    "\n",
    "The dataset contains roughly 36,300 instances, each representing an individual hotel reservation. There are 19 features, which are the attributes of customers' hotel reservations. The features are as follows: Booking_ID, no_of_adults, no_of_children, no_of_weekend_nights, no_of_week_nights, type_of_meal_plan, required_car_parking_space, room_type_reserved, lead_time, arrival_year, arrival_month, arrival_date, market_segment_type, repeated_guest, no_of_previous_cancellations, no_of_previous_bookings_not_canceled. avg_price_per_room, no_of_special_requests, and booking_status. \n",
    "\n",
    "Our target variable is booking_status, which is defined in the dataset information as a \"flag indicating if the booking was canceled or not.\" We chose this feature as our target variable because the aim of our project is to determine the likelihood of a booking being canceled and which features are the best predictors of this cancellation. "
   ]
  },
  {
   "cell_type": "code",
   "execution_count": 1,
   "metadata": {},
   "outputs": [],
   "source": [
    "import pandas as pd\n",
    "\n",
    "hotel_data = pd.read_csv('./Hotel Reservations.csv')"
   ]
  },
  {
   "cell_type": "code",
   "execution_count": 2,
   "metadata": {},
   "outputs": [
    {
     "data": {
      "text/html": [
       "<div>\n",
       "<style scoped>\n",
       "    .dataframe tbody tr th:only-of-type {\n",
       "        vertical-align: middle;\n",
       "    }\n",
       "\n",
       "    .dataframe tbody tr th {\n",
       "        vertical-align: top;\n",
       "    }\n",
       "\n",
       "    .dataframe thead th {\n",
       "        text-align: right;\n",
       "    }\n",
       "</style>\n",
       "<table border=\"1\" class=\"dataframe\">\n",
       "  <thead>\n",
       "    <tr style=\"text-align: right;\">\n",
       "      <th></th>\n",
       "      <th>Booking_ID</th>\n",
       "      <th>no_of_adults</th>\n",
       "      <th>no_of_children</th>\n",
       "      <th>no_of_weekend_nights</th>\n",
       "      <th>no_of_week_nights</th>\n",
       "      <th>type_of_meal_plan</th>\n",
       "      <th>required_car_parking_space</th>\n",
       "      <th>room_type_reserved</th>\n",
       "      <th>lead_time</th>\n",
       "      <th>arrival_year</th>\n",
       "      <th>arrival_month</th>\n",
       "      <th>arrival_date</th>\n",
       "      <th>market_segment_type</th>\n",
       "      <th>repeated_guest</th>\n",
       "      <th>no_of_previous_cancellations</th>\n",
       "      <th>no_of_previous_bookings_not_canceled</th>\n",
       "      <th>avg_price_per_room</th>\n",
       "      <th>no_of_special_requests</th>\n",
       "      <th>booking_status</th>\n",
       "    </tr>\n",
       "  </thead>\n",
       "  <tbody>\n",
       "    <tr>\n",
       "      <th>0</th>\n",
       "      <td>INN00001</td>\n",
       "      <td>2</td>\n",
       "      <td>0</td>\n",
       "      <td>1</td>\n",
       "      <td>2</td>\n",
       "      <td>Meal Plan 1</td>\n",
       "      <td>0</td>\n",
       "      <td>Room_Type 1</td>\n",
       "      <td>224</td>\n",
       "      <td>2017</td>\n",
       "      <td>10</td>\n",
       "      <td>2</td>\n",
       "      <td>Offline</td>\n",
       "      <td>0</td>\n",
       "      <td>0</td>\n",
       "      <td>0</td>\n",
       "      <td>65.00</td>\n",
       "      <td>0</td>\n",
       "      <td>Not_Canceled</td>\n",
       "    </tr>\n",
       "    <tr>\n",
       "      <th>1</th>\n",
       "      <td>INN00002</td>\n",
       "      <td>2</td>\n",
       "      <td>0</td>\n",
       "      <td>2</td>\n",
       "      <td>3</td>\n",
       "      <td>Not Selected</td>\n",
       "      <td>0</td>\n",
       "      <td>Room_Type 1</td>\n",
       "      <td>5</td>\n",
       "      <td>2018</td>\n",
       "      <td>11</td>\n",
       "      <td>6</td>\n",
       "      <td>Online</td>\n",
       "      <td>0</td>\n",
       "      <td>0</td>\n",
       "      <td>0</td>\n",
       "      <td>106.68</td>\n",
       "      <td>1</td>\n",
       "      <td>Not_Canceled</td>\n",
       "    </tr>\n",
       "    <tr>\n",
       "      <th>2</th>\n",
       "      <td>INN00003</td>\n",
       "      <td>1</td>\n",
       "      <td>0</td>\n",
       "      <td>2</td>\n",
       "      <td>1</td>\n",
       "      <td>Meal Plan 1</td>\n",
       "      <td>0</td>\n",
       "      <td>Room_Type 1</td>\n",
       "      <td>1</td>\n",
       "      <td>2018</td>\n",
       "      <td>2</td>\n",
       "      <td>28</td>\n",
       "      <td>Online</td>\n",
       "      <td>0</td>\n",
       "      <td>0</td>\n",
       "      <td>0</td>\n",
       "      <td>60.00</td>\n",
       "      <td>0</td>\n",
       "      <td>Canceled</td>\n",
       "    </tr>\n",
       "    <tr>\n",
       "      <th>3</th>\n",
       "      <td>INN00004</td>\n",
       "      <td>2</td>\n",
       "      <td>0</td>\n",
       "      <td>0</td>\n",
       "      <td>2</td>\n",
       "      <td>Meal Plan 1</td>\n",
       "      <td>0</td>\n",
       "      <td>Room_Type 1</td>\n",
       "      <td>211</td>\n",
       "      <td>2018</td>\n",
       "      <td>5</td>\n",
       "      <td>20</td>\n",
       "      <td>Online</td>\n",
       "      <td>0</td>\n",
       "      <td>0</td>\n",
       "      <td>0</td>\n",
       "      <td>100.00</td>\n",
       "      <td>0</td>\n",
       "      <td>Canceled</td>\n",
       "    </tr>\n",
       "    <tr>\n",
       "      <th>4</th>\n",
       "      <td>INN00005</td>\n",
       "      <td>2</td>\n",
       "      <td>0</td>\n",
       "      <td>1</td>\n",
       "      <td>1</td>\n",
       "      <td>Not Selected</td>\n",
       "      <td>0</td>\n",
       "      <td>Room_Type 1</td>\n",
       "      <td>48</td>\n",
       "      <td>2018</td>\n",
       "      <td>4</td>\n",
       "      <td>11</td>\n",
       "      <td>Online</td>\n",
       "      <td>0</td>\n",
       "      <td>0</td>\n",
       "      <td>0</td>\n",
       "      <td>94.50</td>\n",
       "      <td>0</td>\n",
       "      <td>Canceled</td>\n",
       "    </tr>\n",
       "  </tbody>\n",
       "</table>\n",
       "</div>"
      ],
      "text/plain": [
       "  Booking_ID  no_of_adults  no_of_children  no_of_weekend_nights  \\\n",
       "0   INN00001             2               0                     1   \n",
       "1   INN00002             2               0                     2   \n",
       "2   INN00003             1               0                     2   \n",
       "3   INN00004             2               0                     0   \n",
       "4   INN00005             2               0                     1   \n",
       "\n",
       "   no_of_week_nights type_of_meal_plan  required_car_parking_space  \\\n",
       "0                  2       Meal Plan 1                           0   \n",
       "1                  3      Not Selected                           0   \n",
       "2                  1       Meal Plan 1                           0   \n",
       "3                  2       Meal Plan 1                           0   \n",
       "4                  1      Not Selected                           0   \n",
       "\n",
       "  room_type_reserved  lead_time  arrival_year  arrival_month  arrival_date  \\\n",
       "0        Room_Type 1        224          2017             10             2   \n",
       "1        Room_Type 1          5          2018             11             6   \n",
       "2        Room_Type 1          1          2018              2            28   \n",
       "3        Room_Type 1        211          2018              5            20   \n",
       "4        Room_Type 1         48          2018              4            11   \n",
       "\n",
       "  market_segment_type  repeated_guest  no_of_previous_cancellations  \\\n",
       "0             Offline               0                             0   \n",
       "1              Online               0                             0   \n",
       "2              Online               0                             0   \n",
       "3              Online               0                             0   \n",
       "4              Online               0                             0   \n",
       "\n",
       "   no_of_previous_bookings_not_canceled  avg_price_per_room  \\\n",
       "0                                     0               65.00   \n",
       "1                                     0              106.68   \n",
       "2                                     0               60.00   \n",
       "3                                     0              100.00   \n",
       "4                                     0               94.50   \n",
       "\n",
       "   no_of_special_requests booking_status  \n",
       "0                       0   Not_Canceled  \n",
       "1                       1   Not_Canceled  \n",
       "2                       0       Canceled  \n",
       "3                       0       Canceled  \n",
       "4                       0       Canceled  "
      ]
     },
     "execution_count": 2,
     "metadata": {},
     "output_type": "execute_result"
    }
   ],
   "source": [
    "hotel_data.head()"
   ]
  },
  {
   "cell_type": "code",
   "execution_count": 3,
   "metadata": {},
   "outputs": [
    {
     "name": "stdout",
     "output_type": "stream",
     "text": [
      "(36275, 19)\n"
     ]
    }
   ],
   "source": [
    "print(hotel_data.shape)"
   ]
  },
  {
   "cell_type": "code",
   "execution_count": 4,
   "metadata": {},
   "outputs": [
    {
     "name": "stdout",
     "output_type": "stream",
     "text": [
      "Booking_ID                              0\n",
      "no_of_adults                            0\n",
      "no_of_children                          0\n",
      "no_of_weekend_nights                    0\n",
      "no_of_week_nights                       0\n",
      "type_of_meal_plan                       0\n",
      "required_car_parking_space              0\n",
      "room_type_reserved                      0\n",
      "lead_time                               0\n",
      "arrival_year                            0\n",
      "arrival_month                           0\n",
      "arrival_date                            0\n",
      "market_segment_type                     0\n",
      "repeated_guest                          0\n",
      "no_of_previous_cancellations            0\n",
      "no_of_previous_bookings_not_canceled    0\n",
      "avg_price_per_room                      0\n",
      "no_of_special_requests                  0\n",
      "booking_status                          0\n",
      "dtype: int64\n"
     ]
    }
   ],
   "source": [
    "# find missing values\n",
    "print(hotel_data.isnull().sum())"
   ]
  },
  {
   "cell_type": "markdown",
   "metadata": {},
   "source": [
    "There are no missing values."
   ]
  },
  {
   "cell_type": "code",
   "execution_count": 5,
   "metadata": {},
   "outputs": [
    {
     "name": "stdout",
     "output_type": "stream",
     "text": [
      "Booking_ID                               object\n",
      "no_of_adults                              int64\n",
      "no_of_children                            int64\n",
      "no_of_weekend_nights                      int64\n",
      "no_of_week_nights                         int64\n",
      "type_of_meal_plan                        object\n",
      "required_car_parking_space                int64\n",
      "room_type_reserved                       object\n",
      "lead_time                                 int64\n",
      "arrival_year                              int64\n",
      "arrival_month                             int64\n",
      "arrival_date                              int64\n",
      "market_segment_type                      object\n",
      "repeated_guest                            int64\n",
      "no_of_previous_cancellations              int64\n",
      "no_of_previous_bookings_not_canceled      int64\n",
      "avg_price_per_room                      float64\n",
      "no_of_special_requests                    int64\n",
      "booking_status                           object\n",
      "dtype: object\n"
     ]
    }
   ],
   "source": [
    "print(hotel_data.dtypes)"
   ]
  },
  {
   "cell_type": "markdown",
   "metadata": {},
   "source": [
    "Some features, and even the target variable, are not numerical. We will need to make these values numerical in preprocessing."
   ]
  },
  {
   "cell_type": "markdown",
   "metadata": {},
   "source": [
    "### Pre-processing"
   ]
  },
  {
   "cell_type": "code",
   "execution_count": 6,
   "metadata": {},
   "outputs": [],
   "source": [
    "# make Booking_ID an integer\n",
    "hotel_data['Booking_ID'] = hotel_data['Booking_ID'].apply(lambda x: int(x[3:]))"
   ]
  },
  {
   "cell_type": "code",
   "execution_count": 7,
   "metadata": {},
   "outputs": [],
   "source": [
    "# Use one-hot encoding to convert categorical data into numerical\n",
    "# data. This introduces new features into the dataset.\n",
    "hotel_data = pd.get_dummies(hotel_data, columns=['type_of_meal_plan', 'room_type_reserved', 'market_segment_type'])"
   ]
  },
  {
   "cell_type": "code",
   "execution_count": 8,
   "metadata": {},
   "outputs": [
    {
     "name": "stdout",
     "output_type": "stream",
     "text": [
      "Index(['Booking_ID', 'no_of_adults', 'no_of_children', 'no_of_weekend_nights',\n",
      "       'no_of_week_nights', 'required_car_parking_space', 'lead_time',\n",
      "       'arrival_year', 'arrival_month', 'arrival_date', 'repeated_guest',\n",
      "       'no_of_previous_cancellations', 'no_of_previous_bookings_not_canceled',\n",
      "       'avg_price_per_room', 'no_of_special_requests', 'booking_status',\n",
      "       'type_of_meal_plan_Meal Plan 1', 'type_of_meal_plan_Meal Plan 2',\n",
      "       'type_of_meal_plan_Meal Plan 3', 'type_of_meal_plan_Not Selected',\n",
      "       'room_type_reserved_Room_Type 1', 'room_type_reserved_Room_Type 2',\n",
      "       'room_type_reserved_Room_Type 3', 'room_type_reserved_Room_Type 4',\n",
      "       'room_type_reserved_Room_Type 5', 'room_type_reserved_Room_Type 6',\n",
      "       'room_type_reserved_Room_Type 7', 'market_segment_type_Aviation',\n",
      "       'market_segment_type_Complementary', 'market_segment_type_Corporate',\n",
      "       'market_segment_type_Offline', 'market_segment_type_Online'],\n",
      "      dtype='object')\n"
     ]
    }
   ],
   "source": [
    "print(hotel_data.columns)"
   ]
  },
  {
   "cell_type": "code",
   "execution_count": 9,
   "metadata": {},
   "outputs": [
    {
     "name": "stdout",
     "output_type": "stream",
     "text": [
      "Booking_ID                                int64\n",
      "no_of_adults                              int64\n",
      "no_of_children                            int64\n",
      "no_of_weekend_nights                      int64\n",
      "no_of_week_nights                         int64\n",
      "required_car_parking_space                int64\n",
      "lead_time                                 int64\n",
      "arrival_year                              int64\n",
      "arrival_month                             int64\n",
      "arrival_date                              int64\n",
      "repeated_guest                            int64\n",
      "no_of_previous_cancellations              int64\n",
      "no_of_previous_bookings_not_canceled      int64\n",
      "avg_price_per_room                      float64\n",
      "no_of_special_requests                    int64\n",
      "booking_status                            int64\n",
      "type_of_meal_plan_Meal Plan 1              bool\n",
      "type_of_meal_plan_Meal Plan 2              bool\n",
      "type_of_meal_plan_Meal Plan 3              bool\n",
      "type_of_meal_plan_Not Selected             bool\n",
      "room_type_reserved_Room_Type 1             bool\n",
      "room_type_reserved_Room_Type 2             bool\n",
      "room_type_reserved_Room_Type 3             bool\n",
      "room_type_reserved_Room_Type 4             bool\n",
      "room_type_reserved_Room_Type 5             bool\n",
      "room_type_reserved_Room_Type 6             bool\n",
      "room_type_reserved_Room_Type 7             bool\n",
      "market_segment_type_Aviation               bool\n",
      "market_segment_type_Complementary          bool\n",
      "market_segment_type_Corporate              bool\n",
      "market_segment_type_Offline                bool\n",
      "market_segment_type_Online                 bool\n",
      "dtype: object\n"
     ]
    }
   ],
   "source": [
    "# Transform the booking_status by mapping to a binary encoding.\n",
    "hotel_data['booking_status'] = hotel_data['booking_status'].map({'Canceled': 0, 'Not_Canceled': 1})\n",
    "\n",
    "print(hotel_data.dtypes)\n"
   ]
  },
  {
   "cell_type": "markdown",
   "metadata": {},
   "source": [
    "All fields are now numerical."
   ]
  },
  {
   "cell_type": "markdown",
   "metadata": {},
   "source": [
    "### Correlation Analysis"
   ]
  },
  {
   "cell_type": "code",
   "execution_count": 10,
   "metadata": {},
   "outputs": [
    {
     "data": {
      "image/png": "[encoded data removed]",
      "text/plain": [
       "<Figure size 640x480 with 1 Axes>"
      ]
     },
     "metadata": {},
     "output_type": "display_data"
    }
   ],
   "source": [
    "import matplotlib.pyplot as plt\n",
    "\n",
    "hotel_data['booking_status'].value_counts().plot(kind='bar')\n",
    "\n",
    "plt.show()"
   ]
  },
  {
   "cell_type": "markdown",
   "metadata": {},
   "source": [
    "32.8% of all reservations are cancelled. Although not perfectly balanced with respect to the target variable, this skew is not too servere. Given a more severe skew or should we believe this an issue going forward, we could consider employing techniques such as under/over sampling to address the imbalance."
   ]
  },
  {
   "cell_type": "code",
   "execution_count": 11,
   "metadata": {},
   "outputs": [
    {
     "name": "stdout",
     "output_type": "stream",
     "text": [
      "booking_status                          1.000000\n",
      "no_of_special_requests                  0.253070\n",
      "market_segment_type_Corporate           0.112993\n",
      "repeated_guest                          0.107287\n",
      "required_car_parking_space              0.086185\n",
      "market_segment_type_Complementary       0.072867\n",
      "type_of_meal_plan_Meal Plan 1           0.061267\n",
      "no_of_previous_bookings_not_canceled    0.060179\n",
      "market_segment_type_Offline             0.038351\n",
      "no_of_previous_cancellations            0.033728\n",
      "room_type_reserved_Room_Type 1          0.020326\n",
      "room_type_reserved_Room_Type 7          0.014062\n",
      "arrival_month                           0.011233\n",
      "room_type_reserved_Room_Type 5          0.010224\n",
      "market_segment_type_Aviation            0.003964\n",
      "type_of_meal_plan_Meal Plan 3           0.003193\n",
      "room_type_reserved_Room_Type 3          0.001241\n",
      "room_type_reserved_Room_Type 2         -0.000548\n",
      "type_of_meal_plan_Not Selected         -0.003072\n",
      "Booking_ID                             -0.006237\n",
      "arrival_date                           -0.010629\n",
      "room_type_reserved_Room_Type 4         -0.013309\n",
      "room_type_reserved_Room_Type 6         -0.032652\n",
      "no_of_children                         -0.033078\n",
      "no_of_weekend_nights                   -0.061563\n",
      "type_of_meal_plan_Meal Plan 2          -0.086370\n",
      "no_of_adults                           -0.086920\n",
      "no_of_week_nights                      -0.092996\n",
      "market_segment_type_Online             -0.106362\n",
      "avg_price_per_room                     -0.142569\n",
      "arrival_year                           -0.179529\n",
      "lead_time                              -0.438538\n",
      "Name: booking_status, dtype: float64\n"
     ]
    }
   ],
   "source": [
    "corr = hotel_data.corr()\n",
    "print(corr['booking_status'].sort_values(ascending=False))"
   ]
  },
  {
   "cell_type": "markdown",
   "metadata": {},
   "source": [
    "Features such as Booking_ID and arrival_date have little to no correlation with our target variable. Features such as lead_time and no_of_special_requests have stronger correlations to our target variable. For lead_time, there is a negative correlation between this feature and the binary target varible. Keeping in mind that 1 signifies a non-canceled booking, as lead_time increases, the booking is more likely to be canceled.\n",
    "\n",
    "Another set of features worth examining are the 5 varieties market_segement_types. Some market types such as coperate, complimentary, offline, and aviation have positive correlations to the target variable, while segement type online has a negative correlation. This suggests various relationships between the type of reservation and whether the reservation was canceled or not. One such relationship is that online bookings are more likely to be canceled than in-person bookings."
   ]
  },
  {
   "cell_type": "code",
   "execution_count": 12,
   "metadata": {},
   "outputs": [],
   "source": [
    "import matplotlib.pyplot as plt"
   ]
  },
  {
   "cell_type": "code",
   "execution_count": 13,
   "metadata": {},
   "outputs": [
    {
     "data": {
      "image/png": "[encoded data removed]",
      "text/plain": [
       "<Figure size 640x480 with 1 Axes>"
      ]
     },
     "metadata": {},
     "output_type": "display_data"
    }
   ],
   "source": [
    "large_lead_time_data = hotel_data[hotel_data['lead_time'] > 300]\n",
    "\n",
    "plt.scatter(large_lead_time_data['lead_time'], large_lead_time_data['booking_status'])\n",
    "plt.xlabel('lead_time')\n",
    "plt.ylabel('booking_status')\n",
    "plt.title('lead_time vs booking_status for lead_time > 300 days')\n",
    "plt.show()\n"
   ]
  },
  {
   "cell_type": "markdown",
   "metadata": {},
   "source": [
    "Taking a closer look at lead time, we can start to visualize the negative correlation between lead_time and booking_status. Reservations done further in advance are more likely to be cancelled."
   ]
  },
  {
   "cell_type": "markdown",
   "metadata": {},
   "source": [
    "### PCA Dimensionality Reduction "
   ]
  },
  {
   "cell_type": "markdown",
   "metadata": {},
   "source": [
    "Since the hotel reservations dataset contains 19 features, we continue by using PCA (principal component analysis) for dimensionality reduction. For our initial implementation, we start by reducing to 2 dimensions to get an initial sense for the data (and because a dimensionality of 2 is appropriate for data visualization). "
   ]
  },
  {
   "cell_type": "code",
   "execution_count": null,
   "metadata": {},
   "outputs": [
    {
     "name": "stdout",
     "output_type": "stream",
     "text": [
      "[[ 7.49957071e+03 -6.10536595e+01]\n",
      " [-3.65642965e+03  1.20022607e+01]\n",
      " [ 5.59056691e+03  3.48574902e+02]\n",
      " ...\n",
      " [-6.84542832e+03 -8.06308629e+01]\n",
      " [-1.72694312e+04  1.26515647e+02]\n",
      " [-2.33442924e+03 -7.33616829e+01]]\n"
     ]
    }
   ],
   "source": [
    "# initial implementation (2 dimensions)\n",
    "from sklearn.decomposition import PCA\n",
    "\n",
    "# create feature set X\n",
    "X = hotel_data.drop('booking_status', axis=1)\n",
    "\n",
    "pca = PCA(n_components=2)\n",
    "hotal2D = pca.fit_transform(X)\n",
    "\n",
    "print(hotal2D)"
   ]
  },
  {
   "cell_type": "code",
   "execution_count": 26,
   "metadata": {},
   "outputs": [
    {
     "name": "stdout",
     "output_type": "stream",
     "text": [
      "[9.99920403e-01 6.74972385e-05]\n"
     ]
    }
   ],
   "source": [
    "print(pca.explained_variance_ratio_)"
   ]
  },
  {
   "cell_type": "markdown",
   "metadata": {},
   "source": [
    "The explained variance ratio indicates the proportion of a dataset's variance explained by each principal component. The results show that the first principal component in the hotel reservations dataset accounts for a vast majority of the variance (roughly 99.99%). \n",
    "\n",
    "Next, we implement PCA with the optimal number of dimensions. In this case, we reduce down to the number of dimensions accounting for 95% of the variance."
   ]
  },
  {
   "cell_type": "code",
   "execution_count": 27,
   "metadata": {},
   "outputs": [
    {
     "name": "stdout",
     "output_type": "stream",
     "text": [
      "1\n"
     ]
    }
   ],
   "source": [
    "# implementation with optimal number of dimensions \n",
    "import numpy as np\n",
    "\n",
    "pca = PCA()\n",
    "pca.fit(X)\n",
    "cumsum = np.cumsum(pca.explained_variance_ratio_)\n",
    "d = np.argmax(cumsum >= 0.95) + 1\n",
    "\n",
    "pca = PCA(n_components=0.95)\n",
    "X_reduced = pca.fit_transform(X)\n",
    "\n",
    "print(pca.n_components_)"
   ]
  },
  {
   "cell_type": "markdown",
   "metadata": {},
   "source": [
    "The optimal number of dimensions for this dataset is merely one. (Since our first principal component accounts for 99.99% of the variance, this is what we would expect based on the explained variance ratio.) This indicates that the vast majority of the variance in the hotel reservations dataset can be explained by just one linear combination of features. "
   ]
  }
 ],
 "metadata": {
  "kernelspec": {
   "display_name": "Python 3 (ipykernel)",
   "language": "python",
   "name": "python3"
  },
  "language_info": {
   "codemirror_mode": {
    "name": "ipython",
    "version": 3
   },
   "file_extension": ".py",
   "mimetype": "text/x-python",
   "name": "python",
   "nbconvert_exporter": "python",
   "pygments_lexer": "ipython3",
   "version": "3.12.2"
  }
 },
 "nbformat": 4,
 "nbformat_minor": 2
}
